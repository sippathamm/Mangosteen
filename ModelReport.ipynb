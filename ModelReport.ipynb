{
 "cells": [
  {
   "cell_type": "code",
   "execution_count": null,
   "id": "68ec73bd",
   "metadata": {},
   "outputs": [],
   "source": [
    "import pandas as pd\n",
    "import matplotlib.pyplot as plt\n",
    "import seaborn as sns\n",
    "import numpy as np"
   ]
  },
  {
   "cell_type": "code",
   "execution_count": null,
   "id": "6f3e5b4c",
   "metadata": {
    "scrolled": true
   },
   "outputs": [],
   "source": [
    "model_report_17 = pd.read_csv('Model-Report-17.csv')\n",
    "model_report_17_2_5 = pd.read_csv('Model-Report-17-2-5.csv')\n",
    "model_report_17_5 = pd.read_csv('Model-Report-17-5.csv')\n",
    "model_report_17_7_5 = pd.read_csv('Model-Report-17-7-5.csv')\n",
    "model_report_18 = pd.read_csv('Model-Report-18.csv')\n",
    "model_report_18_2_5 = pd.read_csv('Model-Report-18-2-5.csv')\n",
    "model_report_18_5 = pd.read_csv('Model-Report-18-5.csv')\n",
    "model_report_18_7_5 = pd.read_csv('Model-Report-18-7-5.csv')\n",
    "\n",
    "\n",
    "model_report_17['Threshold'] = 17\n",
    "model_report_17_2_5['Threshold'] = 17.25\n",
    "model_report_17_5['Threshold'] = 17.5\n",
    "model_report_17_7_5['Threshold'] = 17.75\n",
    "model_report_18['Threshold'] = 18\n",
    "model_report_18_2_5['Threshold'] = 18.25\n",
    "model_report_18_5['Threshold'] = 18.5\n",
    "model_report_18_7_5['Threshold'] = 18.75\n",
    "\n",
    "\n",
    "with pd.option_context('display.max_rows', None): \n",
    "    display(model_report_17)\n",
    "    display(model_report_17_2_5)\n",
    "    display(model_report_17_5)\n",
    "    display(model_report_17_7_5)\n",
    "    display(model_report_18)\n",
    "    display(model_report_18_2_5)\n",
    "    display(model_report_18_5)\n",
    "    display(model_report_18_7_5)"
   ]
  },
  {
   "cell_type": "code",
   "execution_count": null,
   "id": "5b1e83b8",
   "metadata": {},
   "outputs": [],
   "source": [
    "df = pd.DataFrame([])\n",
    "\n",
    "df = pd.concat([df, model_report_17], ignore_index=True)\n",
    "df = pd.concat([df, model_report_17_2_5], ignore_index=True)\n",
    "df = pd.concat([df, model_report_17_5], ignore_index=True)\n",
    "df = pd.concat([df, model_report_17_7_5], ignore_index=True)\n",
    "df = pd.concat([df, model_report_18], ignore_index=True)\n",
    "df = pd.concat([df, model_report_18_2_5], ignore_index=True)\n",
    "df = pd.concat([df, model_report_18_5], ignore_index=True)\n",
    "df = pd.concat([df, model_report_18_7_5], ignore_index=True)\n",
    "\n",
    "display(df)"
   ]
  },
  {
   "cell_type": "code",
   "execution_count": null,
   "id": "fb9a49f7",
   "metadata": {
    "scrolled": false
   },
   "outputs": [],
   "source": [
    "model_report = pd.melt(df, id_vars=['Threshold', 'Model'])\n",
    "\n",
    "model_report = model_report[model_report['variable'] == 'Accuracy']\n",
    "\n",
    "display(model_report)"
   ]
  },
  {
   "cell_type": "code",
   "execution_count": null,
   "id": "f129530e",
   "metadata": {},
   "outputs": [],
   "source": [
    "plt.figure(figsize=(16, 10))\n",
    "sns.lineplot(\n",
    "    data=model_report, \n",
    "    x='Threshold', \n",
    "    y='value', \n",
    "    hue='Model',\n",
    "    markers=True, \n",
    "    marker='o',\n",
    "    markerfacecolor=sns.color_palette('Blues_d')[-2],\n",
    "    markersize=8,\n",
    "    palette=sns.color_palette('Paired', 9),\n",
    "    linewidth=3,\n",
    "    legend=\"full\")\n",
    "\n",
    "plt.xlabel('Threshold', fontsize=20, labelpad=20)\n",
    "plt.xticks(fontsize=20)\n",
    "plt.ylabel('%Accuracy', fontsize=20, labelpad=20)\n",
    "plt.yticks(fontsize=20)\n",
    "\n",
    "plt.legend(loc='best', fontsize=20)\n",
    "\n",
    "plt.savefig('model_report.pdf', dpi=600, bbox_inches='tight') \n",
    "plt.savefig('model_report.png', dpi=600, bbox_inches='tight')\n",
    "\n",
    "plt.show()"
   ]
  },
  {
   "cell_type": "code",
   "execution_count": null,
   "id": "e5a1040c",
   "metadata": {},
   "outputs": [],
   "source": []
  }
 ],
 "metadata": {
  "kernelspec": {
   "display_name": "Python 3 (ipykernel)",
   "language": "python",
   "name": "python3"
  },
  "language_info": {
   "codemirror_mode": {
    "name": "ipython",
    "version": 3
   },
   "file_extension": ".py",
   "mimetype": "text/x-python",
   "name": "python",
   "nbconvert_exporter": "python",
   "pygments_lexer": "ipython3",
   "version": "3.11.4"
  }
 },
 "nbformat": 4,
 "nbformat_minor": 5
}
