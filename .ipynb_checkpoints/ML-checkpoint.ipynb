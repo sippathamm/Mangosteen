{
 "cells": [
  {
   "cell_type": "code",
   "execution_count": 1,
   "id": "30960bc8",
   "metadata": {},
   "outputs": [],
   "source": [
    "from sklearn import neighbors\n",
    "from sklearn.svm import SVC\n",
    "from sklearn.linear_model import LogisticRegression\n",
    "from sklearn.neural_network import MLPClassifier\n",
    "from sklearn.tree import DecisionTreeClassifier\n",
    "from sklearn.neural_network import MLPClassifier\n",
    "from sklearn.ensemble import VotingClassifier, RandomForestClassifier\n",
    "\n",
    "from xgboost import XGBClassifier\n",
    "\n",
    "from sklearn.preprocessing import StandardScaler, binarize\n",
    "from sklearn.metrics import accuracy_score, RocCurveDisplay\n",
    "from sklearn.model_selection import train_test_split, KFold, GridSearchCV, cross_val_score\n",
    "from sklearn.pipeline import Pipeline\n",
    "\n",
    "import pandas as pd\n",
    "import matplotlib.pyplot as plt\n",
    "import seaborn as sns\n",
    "import numpy as np"
   ]
  },
  {
   "cell_type": "markdown",
   "id": "a6ded859",
   "metadata": {},
   "source": [
    "# Read Dataset"
   ]
  },
  {
   "cell_type": "code",
   "execution_count": 2,
   "id": "838bdfa1",
   "metadata": {},
   "outputs": [
    {
     "data": {
      "text/html": [
       "<div>\n",
       "<style scoped>\n",
       "    .dataframe tbody tr th:only-of-type {\n",
       "        vertical-align: middle;\n",
       "    }\n",
       "\n",
       "    .dataframe tbody tr th {\n",
       "        vertical-align: top;\n",
       "    }\n",
       "\n",
       "    .dataframe thead th {\n",
       "        text-align: right;\n",
       "    }\n",
       "</style>\n",
       "<table border=\"1\" class=\"dataframe\">\n",
       "  <thead>\n",
       "    <tr style=\"text-align: right;\">\n",
       "      <th></th>\n",
       "      <th>No</th>\n",
       "      <th>Mangosteen Weight (g)</th>\n",
       "      <th>Roundness</th>\n",
       "      <th>Upper Petal</th>\n",
       "      <th>Lower Petal</th>\n",
       "      <th>Max Frequency (Hz)</th>\n",
       "      <th>Max Magnitude</th>\n",
       "      <th>Sweetness (%Brix)</th>\n",
       "      <th>Class</th>\n",
       "    </tr>\n",
       "  </thead>\n",
       "  <tbody>\n",
       "    <tr>\n",
       "      <th>0</th>\n",
       "      <td>1</td>\n",
       "      <td>105.67</td>\n",
       "      <td>0.945</td>\n",
       "      <td>4</td>\n",
       "      <td>6</td>\n",
       "      <td>184.22</td>\n",
       "      <td>48.24</td>\n",
       "      <td>19.000</td>\n",
       "      <td>1</td>\n",
       "    </tr>\n",
       "    <tr>\n",
       "      <th>1</th>\n",
       "      <td>3</td>\n",
       "      <td>79.57</td>\n",
       "      <td>0.910</td>\n",
       "      <td>4</td>\n",
       "      <td>5</td>\n",
       "      <td>186.97</td>\n",
       "      <td>17.57</td>\n",
       "      <td>15.375</td>\n",
       "      <td>0</td>\n",
       "    </tr>\n",
       "    <tr>\n",
       "      <th>2</th>\n",
       "      <td>4</td>\n",
       "      <td>69.13</td>\n",
       "      <td>0.955</td>\n",
       "      <td>4</td>\n",
       "      <td>6</td>\n",
       "      <td>184.55</td>\n",
       "      <td>26.90</td>\n",
       "      <td>18.660</td>\n",
       "      <td>1</td>\n",
       "    </tr>\n",
       "    <tr>\n",
       "      <th>3</th>\n",
       "      <td>5</td>\n",
       "      <td>77.55</td>\n",
       "      <td>0.964</td>\n",
       "      <td>4</td>\n",
       "      <td>5</td>\n",
       "      <td>185.60</td>\n",
       "      <td>40.53</td>\n",
       "      <td>22.000</td>\n",
       "      <td>1</td>\n",
       "    </tr>\n",
       "    <tr>\n",
       "      <th>4</th>\n",
       "      <td>6</td>\n",
       "      <td>99.95</td>\n",
       "      <td>0.895</td>\n",
       "      <td>4</td>\n",
       "      <td>6</td>\n",
       "      <td>184.49</td>\n",
       "      <td>42.64</td>\n",
       "      <td>19.250</td>\n",
       "      <td>1</td>\n",
       "    </tr>\n",
       "    <tr>\n",
       "      <th>...</th>\n",
       "      <td>...</td>\n",
       "      <td>...</td>\n",
       "      <td>...</td>\n",
       "      <td>...</td>\n",
       "      <td>...</td>\n",
       "      <td>...</td>\n",
       "      <td>...</td>\n",
       "      <td>...</td>\n",
       "      <td>...</td>\n",
       "    </tr>\n",
       "    <tr>\n",
       "      <th>98</th>\n",
       "      <td>131</td>\n",
       "      <td>60.75</td>\n",
       "      <td>0.962</td>\n",
       "      <td>4</td>\n",
       "      <td>6</td>\n",
       "      <td>100.10</td>\n",
       "      <td>25.42</td>\n",
       "      <td>16.375</td>\n",
       "      <td>0</td>\n",
       "    </tr>\n",
       "    <tr>\n",
       "      <th>99</th>\n",
       "      <td>132</td>\n",
       "      <td>71.29</td>\n",
       "      <td>0.949</td>\n",
       "      <td>4</td>\n",
       "      <td>6</td>\n",
       "      <td>NaN</td>\n",
       "      <td>24.00</td>\n",
       "      <td>17.875</td>\n",
       "      <td>0</td>\n",
       "    </tr>\n",
       "    <tr>\n",
       "      <th>100</th>\n",
       "      <td>133</td>\n",
       "      <td>48.30</td>\n",
       "      <td>0.920</td>\n",
       "      <td>4</td>\n",
       "      <td>5</td>\n",
       "      <td>261.82</td>\n",
       "      <td>32.55</td>\n",
       "      <td>21.250</td>\n",
       "      <td>1</td>\n",
       "    </tr>\n",
       "    <tr>\n",
       "      <th>101</th>\n",
       "      <td>134</td>\n",
       "      <td>46.39</td>\n",
       "      <td>0.961</td>\n",
       "      <td>4</td>\n",
       "      <td>6</td>\n",
       "      <td>99.98</td>\n",
       "      <td>38.97</td>\n",
       "      <td>19.500</td>\n",
       "      <td>1</td>\n",
       "    </tr>\n",
       "    <tr>\n",
       "      <th>102</th>\n",
       "      <td>135</td>\n",
       "      <td>53.06</td>\n",
       "      <td>0.944</td>\n",
       "      <td>4</td>\n",
       "      <td>5</td>\n",
       "      <td>99.95</td>\n",
       "      <td>26.52</td>\n",
       "      <td>20.600</td>\n",
       "      <td>1</td>\n",
       "    </tr>\n",
       "  </tbody>\n",
       "</table>\n",
       "<p>103 rows × 9 columns</p>\n",
       "</div>"
      ],
      "text/plain": [
       "      No  Mangosteen Weight (g)  Roundness  Upper Petal  Lower Petal  \\\n",
       "0      1                 105.67      0.945            4            6   \n",
       "1      3                  79.57      0.910            4            5   \n",
       "2      4                  69.13      0.955            4            6   \n",
       "3      5                  77.55      0.964            4            5   \n",
       "4      6                  99.95      0.895            4            6   \n",
       "..   ...                    ...        ...          ...          ...   \n",
       "98   131                  60.75      0.962            4            6   \n",
       "99   132                  71.29      0.949            4            6   \n",
       "100  133                  48.30      0.920            4            5   \n",
       "101  134                  46.39      0.961            4            6   \n",
       "102  135                  53.06      0.944            4            5   \n",
       "\n",
       "     Max Frequency (Hz)  Max Magnitude  Sweetness (%Brix)  Class  \n",
       "0                184.22          48.24             19.000      1  \n",
       "1                186.97          17.57             15.375      0  \n",
       "2                184.55          26.90             18.660      1  \n",
       "3                185.60          40.53             22.000      1  \n",
       "4                184.49          42.64             19.250      1  \n",
       "..                  ...            ...                ...    ...  \n",
       "98               100.10          25.42             16.375      0  \n",
       "99                  NaN          24.00             17.875      0  \n",
       "100              261.82          32.55             21.250      1  \n",
       "101               99.98          38.97             19.500      1  \n",
       "102               99.95          26.52             20.600      1  \n",
       "\n",
       "[103 rows x 9 columns]"
      ]
     },
     "metadata": {},
     "output_type": "display_data"
    },
    {
     "name": "stdout",
     "output_type": "stream",
     "text": [
      "0    60\n",
      "1    43\n",
      "Name: Class, dtype: int64\n"
     ]
    },
    {
     "data": {
      "image/png": "[encoded data removed]",
      "text/plain": [
       "<Figure size 640x480 with 1 Axes>"
      ]
     },
     "metadata": {},
     "output_type": "display_data"
    }
   ],
   "source": [
    "df = pd.read_excel('Dataset/Dataset.xlsx')\n",
    "\n",
    "# with pd.option_context('display.max_rows', 6): display(df)\n",
    "\n",
    "display(df)\n",
    "\n",
    "class_count = df['Class'].value_counts()\n",
    "print(class_count)\n",
    "\n",
    "plt.bar(['0', '1'], [class_count[0], class_count[1]])\n",
    "plt.xlabel('Class')\n",
    "plt.ylabel('Count')\n",
    "plt.show()"
   ]
  },
  {
   "cell_type": "markdown",
   "id": "47f7e58e",
   "metadata": {},
   "source": [
    "# Fill NaN with Mean"
   ]
  },
  {
   "cell_type": "code",
   "execution_count": 3,
   "id": "af75f3f3",
   "metadata": {},
   "outputs": [
    {
     "name": "stdout",
     "output_type": "stream",
     "text": [
      "Roundness Mean: 0.9456161616161616\n",
      "Max Frequency (Hz) Mean: 135.70350000000002\n"
     ]
    }
   ],
   "source": [
    "roundness_mean = df['Roundness'].mean()\n",
    "max_frequency_mean = df['Max Frequency (Hz)'].mean()\n",
    "\n",
    "print(f'Roundness Mean: {roundness_mean}')\n",
    "print(f'Max Frequency (Hz) Mean: {max_frequency_mean}')\n",
    "\n",
    "df['Roundness'].fillna(roundness_mean, inplace=True)\n",
    "df['Max Frequency (Hz)'].fillna(max_frequency_mean, inplace=True)"
   ]
  },
  {
   "cell_type": "markdown",
   "id": "831f41e8",
   "metadata": {},
   "source": [
    "# Features Selection"
   ]
  },
  {
   "cell_type": "code",
   "execution_count": 4,
   "id": "f9bc5b2e",
   "metadata": {},
   "outputs": [
    {
     "data": {
      "text/plain": [
       "<Axes: >"
      ]
     },
     "metadata": {},
     "output_type": "display_data"
    },
    {
     "data": {
      "image/png": "[encoded data removed]",
      "text/plain": [
       "<Figure size 640x480 with 1 Axes>"
      ]
     },
     "metadata": {},
     "output_type": "display_data"
    }
   ],
   "source": [
    "feature = ['Mangosteen Weight (g)', 'Roundness', 'Max Frequency (Hz)']\n",
    "X = df[feature]\n",
    "y = df['Class']\n",
    "\n",
    "display(df.boxplot(column=feature, grid=False, rot=45, fontsize=8))"
   ]
  },
  {
   "cell_type": "markdown",
   "id": "f3e9a657",
   "metadata": {},
   "source": [
    "# Data Visualization"
   ]
  },
  {
   "cell_type": "code",
   "execution_count": 5,
   "id": "29187553",
   "metadata": {},
   "outputs": [
    {
     "data": {
      "image/png": "[encoded data removed]",
      "text/plain": [
       "<Figure size 640x480 with 1 Axes>"
      ]
     },
     "metadata": {},
     "output_type": "display_data"
    }
   ],
   "source": [
    "class_0 = df[y == 0]\n",
    "class_1 = df[y == 1]\n",
    "\n",
    "plt.xlabel('Mangosteen Weight (g), Roundess, Max Frequency (Hz)')\n",
    "plt.ylabel('Sweetness (%Brix)')\n",
    "\n",
    "plt.scatter(class_0['Mangosteen Weight (g)'], class_0['Sweetness (%Brix)'], color='b', label='Low Sweetness')\n",
    "plt.scatter(class_1['Mangosteen Weight (g)'], class_1['Sweetness (%Brix)'], color='r', label='High Sweetness')\n",
    "\n",
    "plt.scatter(class_0['Roundness'], class_0['Sweetness (%Brix)'], color='b')\n",
    "plt.scatter(class_1['Roundness'], class_1['Sweetness (%Brix)'], color='r')\n",
    "\n",
    "plt.scatter(class_0['Max Frequency (Hz)'], class_0['Sweetness (%Brix)'], color='b')\n",
    "plt.scatter(class_1['Max Frequency (Hz)'], class_1['Sweetness (%Brix)'], color='r')\n",
    "\n",
    "plt.legend(loc='best')\n",
    "plt.show()"
   ]
  },
  {
   "cell_type": "markdown",
   "id": "dd243a55",
   "metadata": {},
   "source": [
    "# Hyperparameter"
   ]
  },
  {
   "cell_type": "code",
   "execution_count": 6,
   "id": "962499ab",
   "metadata": {},
   "outputs": [],
   "source": [
    "cross_validation = KFold(n_splits=10, shuffle=True, random_state=42)"
   ]
  },
  {
   "cell_type": "markdown",
   "id": "89737e3a",
   "metadata": {},
   "source": [
    "## KNN"
   ]
  },
  {
   "cell_type": "code",
   "execution_count": 7,
   "id": "9f2bcf66",
   "metadata": {},
   "outputs": [
    {
     "data": {
      "text/html": [
       "<style>#sk-container-id-1 {color: black;background-color: white;}#sk-container-id-1 pre{padding: 0;}#sk-container-id-1 div.sk-toggleable {background-color: white;}#sk-container-id-1 label.sk-toggleable__label {cursor: pointer;display: block;width: 100%;margin-bottom: 0;padding: 0.3em;box-sizing: border-box;text-align: center;}#sk-container-id-1 label.sk-toggleable__label-arrow:before {content: \"▸\";float: left;margin-right: 0.25em;color: #696969;}#sk-container-id-1 label.sk-toggleable__label-arrow:hover:before {color: black;}#sk-container-id-1 div.sk-estimator:hover label.sk-toggleable__label-arrow:before {color: black;}#sk-container-id-1 div.sk-toggleable__content {max-height: 0;max-width: 0;overflow: hidden;text-align: left;background-color: #f0f8ff;}#sk-container-id-1 div.sk-toggleable__content pre {margin: 0.2em;color: black;border-radius: 0.25em;background-color: #f0f8ff;}#sk-container-id-1 input.sk-toggleable__control:checked~div.sk-toggleable__content {max-height: 200px;max-width: 100%;overflow: auto;}#sk-container-id-1 input.sk-toggleable__control:checked~label.sk-toggleable__label-arrow:before {content: \"▾\";}#sk-container-id-1 div.sk-estimator input.sk-toggleable__control:checked~label.sk-toggleable__label {background-color: #d4ebff;}#sk-container-id-1 div.sk-label input.sk-toggleable__control:checked~label.sk-toggleable__label {background-color: #d4ebff;}#sk-container-id-1 input.sk-hidden--visually {border: 0;clip: rect(1px 1px 1px 1px);clip: rect(1px, 1px, 1px, 1px);height: 1px;margin: -1px;overflow: hidden;padding: 0;position: absolute;width: 1px;}#sk-container-id-1 div.sk-estimator {font-family: monospace;background-color: #f0f8ff;border: 1px dotted black;border-radius: 0.25em;box-sizing: border-box;margin-bottom: 0.5em;}#sk-container-id-1 div.sk-estimator:hover {background-color: #d4ebff;}#sk-container-id-1 div.sk-parallel-item::after {content: \"\";width: 100%;border-bottom: 1px solid gray;flex-grow: 1;}#sk-container-id-1 div.sk-label:hover label.sk-toggleable__label {background-color: #d4ebff;}#sk-container-id-1 div.sk-serial::before {content: \"\";position: absolute;border-left: 1px solid gray;box-sizing: border-box;top: 0;bottom: 0;left: 50%;z-index: 0;}#sk-container-id-1 div.sk-serial {display: flex;flex-direction: column;align-items: center;background-color: white;padding-right: 0.2em;padding-left: 0.2em;position: relative;}#sk-container-id-1 div.sk-item {position: relative;z-index: 1;}#sk-container-id-1 div.sk-parallel {display: flex;align-items: stretch;justify-content: center;background-color: white;position: relative;}#sk-container-id-1 div.sk-item::before, #sk-container-id-1 div.sk-parallel-item::before {content: \"\";position: absolute;border-left: 1px solid gray;box-sizing: border-box;top: 0;bottom: 0;left: 50%;z-index: -1;}#sk-container-id-1 div.sk-parallel-item {display: flex;flex-direction: column;z-index: 1;position: relative;background-color: white;}#sk-container-id-1 div.sk-parallel-item:first-child::after {align-self: flex-end;width: 50%;}#sk-container-id-1 div.sk-parallel-item:last-child::after {align-self: flex-start;width: 50%;}#sk-container-id-1 div.sk-parallel-item:only-child::after {width: 0;}#sk-container-id-1 div.sk-dashed-wrapped {border: 1px dashed gray;margin: 0 0.4em 0.5em 0.4em;box-sizing: border-box;padding-bottom: 0.4em;background-color: white;}#sk-container-id-1 div.sk-label label {font-family: monospace;font-weight: bold;display: inline-block;line-height: 1.2em;}#sk-container-id-1 div.sk-label-container {text-align: center;}#sk-container-id-1 div.sk-container {/* jupyter's `normalize.less` sets `[hidden] { display: none; }` but bootstrap.min.css set `[hidden] { display: none !important; }` so we also need the `!important` here to be able to override the default hidden behavior on the sphinx rendered scikit-learn.org. See: https://github.com/scikit-learn/scikit-learn/issues/21755 */display: inline-block !important;position: relative;}#sk-container-id-1 div.sk-text-repr-fallback {display: none;}</style><div id=\"sk-container-id-1\" class=\"sk-top-container\"><div class=\"sk-text-repr-fallback\"><pre>GridSearchCV(cv=KFold(n_splits=10, random_state=42, shuffle=True),\n",
       "             estimator=Pipeline(steps=[(&#x27;standard_scaler&#x27;, StandardScaler()),\n",
       "                                       (&#x27;model&#x27;, KNeighborsClassifier())]),\n",
       "             n_jobs=-1,\n",
       "             param_grid={&#x27;model__leaf_size&#x27;: [1, 2, 3, 4, 5, 6, 7, 8, 9, 10, 11,\n",
       "                                              12, 13, 14],\n",
       "                         &#x27;model__n_neighbors&#x27;: [1, 3, 5, 7, 9],\n",
       "                         &#x27;model__p&#x27;: [1, 2, 3, 4, 5]},\n",
       "             scoring=&#x27;accuracy&#x27;)</pre><b>In a Jupyter environment, please rerun this cell to show the HTML representation or trust the notebook. <br />On GitHub, the HTML representation is unable to render, please try loading this page with nbviewer.org.</b></div><div class=\"sk-container\" hidden><div class=\"sk-item sk-dashed-wrapped\"><div class=\"sk-label-container\"><div class=\"sk-label sk-toggleable\"><input class=\"sk-toggleable__control sk-hidden--visually\" id=\"sk-estimator-id-1\" type=\"checkbox\" ><label for=\"sk-estimator-id-1\" class=\"sk-toggleable__label sk-toggleable__label-arrow\">GridSearchCV</label><div class=\"sk-toggleable__content\"><pre>GridSearchCV(cv=KFold(n_splits=10, random_state=42, shuffle=True),\n",
       "             estimator=Pipeline(steps=[(&#x27;standard_scaler&#x27;, StandardScaler()),\n",
       "                                       (&#x27;model&#x27;, KNeighborsClassifier())]),\n",
       "             n_jobs=-1,\n",
       "             param_grid={&#x27;model__leaf_size&#x27;: [1, 2, 3, 4, 5, 6, 7, 8, 9, 10, 11,\n",
       "                                              12, 13, 14],\n",
       "                         &#x27;model__n_neighbors&#x27;: [1, 3, 5, 7, 9],\n",
       "                         &#x27;model__p&#x27;: [1, 2, 3, 4, 5]},\n",
       "             scoring=&#x27;accuracy&#x27;)</pre></div></div></div><div class=\"sk-parallel\"><div class=\"sk-parallel-item\"><div class=\"sk-item\"><div class=\"sk-label-container\"><div class=\"sk-label sk-toggleable\"><input class=\"sk-toggleable__control sk-hidden--visually\" id=\"sk-estimator-id-2\" type=\"checkbox\" ><label for=\"sk-estimator-id-2\" class=\"sk-toggleable__label sk-toggleable__label-arrow\">estimator: Pipeline</label><div class=\"sk-toggleable__content\"><pre>Pipeline(steps=[(&#x27;standard_scaler&#x27;, StandardScaler()),\n",
       "                (&#x27;model&#x27;, KNeighborsClassifier())])</pre></div></div></div><div class=\"sk-serial\"><div class=\"sk-item\"><div class=\"sk-serial\"><div class=\"sk-item\"><div class=\"sk-estimator sk-toggleable\"><input class=\"sk-toggleable__control sk-hidden--visually\" id=\"sk-estimator-id-3\" type=\"checkbox\" ><label for=\"sk-estimator-id-3\" class=\"sk-toggleable__label sk-toggleable__label-arrow\">StandardScaler</label><div class=\"sk-toggleable__content\"><pre>StandardScaler()</pre></div></div></div><div class=\"sk-item\"><div class=\"sk-estimator sk-toggleable\"><input class=\"sk-toggleable__control sk-hidden--visually\" id=\"sk-estimator-id-4\" type=\"checkbox\" ><label for=\"sk-estimator-id-4\" class=\"sk-toggleable__label sk-toggleable__label-arrow\">KNeighborsClassifier</label><div class=\"sk-toggleable__content\"><pre>KNeighborsClassifier()</pre></div></div></div></div></div></div></div></div></div></div></div></div>"
      ],
      "text/plain": [
       "GridSearchCV(cv=KFold(n_splits=10, random_state=42, shuffle=True),\n",
       "             estimator=Pipeline(steps=[('standard_scaler', StandardScaler()),\n",
       "                                       ('model', KNeighborsClassifier())]),\n",
       "             n_jobs=-1,\n",
       "             param_grid={'model__leaf_size': [1, 2, 3, 4, 5, 6, 7, 8, 9, 10, 11,\n",
       "                                              12, 13, 14],\n",
       "                         'model__n_neighbors': [1, 3, 5, 7, 9],\n",
       "                         'model__p': [1, 2, 3, 4, 5]},\n",
       "             scoring='accuracy')"
      ]
     },
     "execution_count": 7,
     "metadata": {},
     "output_type": "execute_result"
    }
   ],
   "source": [
    "standard_scaler = StandardScaler()\n",
    "\n",
    "KNN = neighbors.KNeighborsClassifier()\n",
    "KNN_parameter = {\n",
    "    'model__leaf_size': list(range(1, 15)),\n",
    "    'model__n_neighbors': list(range(1, 10, 2)),\n",
    "    'model__p': [1, 2, 3, 4, 5]\n",
    "}\n",
    "\n",
    "pipeline = Pipeline([('standard_scaler', standard_scaler), ('model', KNN)])\n",
    "\n",
    "grid_search = GridSearchCV(estimator=pipeline, param_grid=KNN_parameter, cv=cross_validation, scoring='accuracy', n_jobs=-1, verbose=0)\n",
    "grid_search.fit(X, y)"
   ]
  },
  {
   "cell_type": "code",
   "execution_count": 8,
   "id": "ff202ec8",
   "metadata": {},
   "outputs": [
    {
     "name": "stdout",
     "output_type": "stream",
     "text": [
      "KNN Model Best Estimator:  Pipeline(steps=[('standard_scaler', StandardScaler()),\n",
      "                ('model', KNeighborsClassifier(leaf_size=1, p=3))])\n",
      "KNN Model Best Parameter:  {'model__leaf_size': 1, 'model__n_neighbors': 5, 'model__p': 3}\n",
      "KNN Model Best Score:  0.6981818181818181\n"
     ]
    }
   ],
   "source": [
    "print('KNN Model Best Estimator: ', grid_search.best_estimator_)\n",
    "print('KNN Model Best Parameter: ', grid_search.best_params_)\n",
    "print('KNN Model Best Score: ', grid_search.best_score_)"
   ]
  },
  {
   "cell_type": "markdown",
   "id": "5e08b5e2",
   "metadata": {},
   "source": [
    "## SVM"
   ]
  },
  {
   "cell_type": "code",
   "execution_count": 9,
   "id": "bd214872",
   "metadata": {
    "scrolled": false
   },
   "outputs": [
    {
     "data": {
      "text/html": [
       "<style>#sk-container-id-2 {color: black;background-color: white;}#sk-container-id-2 pre{padding: 0;}#sk-container-id-2 div.sk-toggleable {background-color: white;}#sk-container-id-2 label.sk-toggleable__label {cursor: pointer;display: block;width: 100%;margin-bottom: 0;padding: 0.3em;box-sizing: border-box;text-align: center;}#sk-container-id-2 label.sk-toggleable__label-arrow:before {content: \"▸\";float: left;margin-right: 0.25em;color: #696969;}#sk-container-id-2 label.sk-toggleable__label-arrow:hover:before {color: black;}#sk-container-id-2 div.sk-estimator:hover label.sk-toggleable__label-arrow:before {color: black;}#sk-container-id-2 div.sk-toggleable__content {max-height: 0;max-width: 0;overflow: hidden;text-align: left;background-color: #f0f8ff;}#sk-container-id-2 div.sk-toggleable__content pre {margin: 0.2em;color: black;border-radius: 0.25em;background-color: #f0f8ff;}#sk-container-id-2 input.sk-toggleable__control:checked~div.sk-toggleable__content {max-height: 200px;max-width: 100%;overflow: auto;}#sk-container-id-2 input.sk-toggleable__control:checked~label.sk-toggleable__label-arrow:before {content: \"▾\";}#sk-container-id-2 div.sk-estimator input.sk-toggleable__control:checked~label.sk-toggleable__label {background-color: #d4ebff;}#sk-container-id-2 div.sk-label input.sk-toggleable__control:checked~label.sk-toggleable__label {background-color: #d4ebff;}#sk-container-id-2 input.sk-hidden--visually {border: 0;clip: rect(1px 1px 1px 1px);clip: rect(1px, 1px, 1px, 1px);height: 1px;margin: -1px;overflow: hidden;padding: 0;position: absolute;width: 1px;}#sk-container-id-2 div.sk-estimator {font-family: monospace;background-color: #f0f8ff;border: 1px dotted black;border-radius: 0.25em;box-sizing: border-box;margin-bottom: 0.5em;}#sk-container-id-2 div.sk-estimator:hover {background-color: #d4ebff;}#sk-container-id-2 div.sk-parallel-item::after {content: \"\";width: 100%;border-bottom: 1px solid gray;flex-grow: 1;}#sk-container-id-2 div.sk-label:hover label.sk-toggleable__label {background-color: #d4ebff;}#sk-container-id-2 div.sk-serial::before {content: \"\";position: absolute;border-left: 1px solid gray;box-sizing: border-box;top: 0;bottom: 0;left: 50%;z-index: 0;}#sk-container-id-2 div.sk-serial {display: flex;flex-direction: column;align-items: center;background-color: white;padding-right: 0.2em;padding-left: 0.2em;position: relative;}#sk-container-id-2 div.sk-item {position: relative;z-index: 1;}#sk-container-id-2 div.sk-parallel {display: flex;align-items: stretch;justify-content: center;background-color: white;position: relative;}#sk-container-id-2 div.sk-item::before, #sk-container-id-2 div.sk-parallel-item::before {content: \"\";position: absolute;border-left: 1px solid gray;box-sizing: border-box;top: 0;bottom: 0;left: 50%;z-index: -1;}#sk-container-id-2 div.sk-parallel-item {display: flex;flex-direction: column;z-index: 1;position: relative;background-color: white;}#sk-container-id-2 div.sk-parallel-item:first-child::after {align-self: flex-end;width: 50%;}#sk-container-id-2 div.sk-parallel-item:last-child::after {align-self: flex-start;width: 50%;}#sk-container-id-2 div.sk-parallel-item:only-child::after {width: 0;}#sk-container-id-2 div.sk-dashed-wrapped {border: 1px dashed gray;margin: 0 0.4em 0.5em 0.4em;box-sizing: border-box;padding-bottom: 0.4em;background-color: white;}#sk-container-id-2 div.sk-label label {font-family: monospace;font-weight: bold;display: inline-block;line-height: 1.2em;}#sk-container-id-2 div.sk-label-container {text-align: center;}#sk-container-id-2 div.sk-container {/* jupyter's `normalize.less` sets `[hidden] { display: none; }` but bootstrap.min.css set `[hidden] { display: none !important; }` so we also need the `!important` here to be able to override the default hidden behavior on the sphinx rendered scikit-learn.org. See: https://github.com/scikit-learn/scikit-learn/issues/21755 */display: inline-block !important;position: relative;}#sk-container-id-2 div.sk-text-repr-fallback {display: none;}</style><div id=\"sk-container-id-2\" class=\"sk-top-container\"><div class=\"sk-text-repr-fallback\"><pre>GridSearchCV(cv=KFold(n_splits=10, random_state=42, shuffle=True),\n",
       "             estimator=Pipeline(steps=[(&#x27;standard_scaler&#x27;, StandardScaler()),\n",
       "                                       (&#x27;model&#x27;, SVC())]),\n",
       "             n_jobs=-1,\n",
       "             param_grid=[{&#x27;model__C&#x27;: [1.0, 1.4, 1.8, 2.0, 2.4, 2.8, 3.0],\n",
       "                          &#x27;model__kernel&#x27;: [&#x27;linear&#x27;]},\n",
       "                         {&#x27;model__C&#x27;: [1.0, 1.4, 1.8, 2.0, 2.4, 2.8, 3.0],\n",
       "                          &#x27;model__gamma&#x27;: [1.0, 2.0, 3.0, 4.0],\n",
       "                          &#x27;model__kernel&#x27;: [&#x27;rbf&#x27;]}],\n",
       "             scoring=&#x27;accuracy&#x27;)</pre><b>In a Jupyter environment, please rerun this cell to show the HTML representation or trust the notebook. <br />On GitHub, the HTML representation is unable to render, please try loading this page with nbviewer.org.</b></div><div class=\"sk-container\" hidden><div class=\"sk-item sk-dashed-wrapped\"><div class=\"sk-label-container\"><div class=\"sk-label sk-toggleable\"><input class=\"sk-toggleable__control sk-hidden--visually\" id=\"sk-estimator-id-5\" type=\"checkbox\" ><label for=\"sk-estimator-id-5\" class=\"sk-toggleable__label sk-toggleable__label-arrow\">GridSearchCV</label><div class=\"sk-toggleable__content\"><pre>GridSearchCV(cv=KFold(n_splits=10, random_state=42, shuffle=True),\n",
       "             estimator=Pipeline(steps=[(&#x27;standard_scaler&#x27;, StandardScaler()),\n",
       "                                       (&#x27;model&#x27;, SVC())]),\n",
       "             n_jobs=-1,\n",
       "             param_grid=[{&#x27;model__C&#x27;: [1.0, 1.4, 1.8, 2.0, 2.4, 2.8, 3.0],\n",
       "                          &#x27;model__kernel&#x27;: [&#x27;linear&#x27;]},\n",
       "                         {&#x27;model__C&#x27;: [1.0, 1.4, 1.8, 2.0, 2.4, 2.8, 3.0],\n",
       "                          &#x27;model__gamma&#x27;: [1.0, 2.0, 3.0, 4.0],\n",
       "                          &#x27;model__kernel&#x27;: [&#x27;rbf&#x27;]}],\n",
       "             scoring=&#x27;accuracy&#x27;)</pre></div></div></div><div class=\"sk-parallel\"><div class=\"sk-parallel-item\"><div class=\"sk-item\"><div class=\"sk-label-container\"><div class=\"sk-label sk-toggleable\"><input class=\"sk-toggleable__control sk-hidden--visually\" id=\"sk-estimator-id-6\" type=\"checkbox\" ><label for=\"sk-estimator-id-6\" class=\"sk-toggleable__label sk-toggleable__label-arrow\">estimator: Pipeline</label><div class=\"sk-toggleable__content\"><pre>Pipeline(steps=[(&#x27;standard_scaler&#x27;, StandardScaler()), (&#x27;model&#x27;, SVC())])</pre></div></div></div><div class=\"sk-serial\"><div class=\"sk-item\"><div class=\"sk-serial\"><div class=\"sk-item\"><div class=\"sk-estimator sk-toggleable\"><input class=\"sk-toggleable__control sk-hidden--visually\" id=\"sk-estimator-id-7\" type=\"checkbox\" ><label for=\"sk-estimator-id-7\" class=\"sk-toggleable__label sk-toggleable__label-arrow\">StandardScaler</label><div class=\"sk-toggleable__content\"><pre>StandardScaler()</pre></div></div></div><div class=\"sk-item\"><div class=\"sk-estimator sk-toggleable\"><input class=\"sk-toggleable__control sk-hidden--visually\" id=\"sk-estimator-id-8\" type=\"checkbox\" ><label for=\"sk-estimator-id-8\" class=\"sk-toggleable__label sk-toggleable__label-arrow\">SVC</label><div class=\"sk-toggleable__content\"><pre>SVC()</pre></div></div></div></div></div></div></div></div></div></div></div></div>"
      ],
      "text/plain": [
       "GridSearchCV(cv=KFold(n_splits=10, random_state=42, shuffle=True),\n",
       "             estimator=Pipeline(steps=[('standard_scaler', StandardScaler()),\n",
       "                                       ('model', SVC())]),\n",
       "             n_jobs=-1,\n",
       "             param_grid=[{'model__C': [1.0, 1.4, 1.8, 2.0, 2.4, 2.8, 3.0],\n",
       "                          'model__kernel': ['linear']},\n",
       "                         {'model__C': [1.0, 1.4, 1.8, 2.0, 2.4, 2.8, 3.0],\n",
       "                          'model__gamma': [1.0, 2.0, 3.0, 4.0],\n",
       "                          'model__kernel': ['rbf']}],\n",
       "             scoring='accuracy')"
      ]
     },
     "execution_count": 9,
     "metadata": {},
     "output_type": "execute_result"
    }
   ],
   "source": [
    "standard_scaler = StandardScaler()\n",
    "\n",
    "SVM = SVC()\n",
    "SVM_parameter = [\n",
    "    {'model__kernel': ['linear'], 'model__C': [1.0, 1.4, 1.8, 2.0, 2.4, 2.8, 3.0]},\n",
    "    {'model__kernel': ['rbf'], 'model__C': [1.0, 1.4, 1.8, 2.0, 2.4, 2.8, 3.0], 'model__gamma': [1.0, 2.0, 3.0, 4.0]}\n",
    "]\n",
    "\n",
    "pipeline = Pipeline([('standard_scaler', standard_scaler), ('model', SVM)])\n",
    "\n",
    "grid_search = GridSearchCV(estimator=pipeline, param_grid=SVM_parameter, cv=cross_validation, scoring='accuracy', n_jobs=-1, verbose=0)\n",
    "grid_search.fit(X, y)"
   ]
  },
  {
   "cell_type": "code",
   "execution_count": 10,
   "id": "4c8eb5c2",
   "metadata": {},
   "outputs": [
    {
     "name": "stdout",
     "output_type": "stream",
     "text": [
      "SVM Model Best Estimator:  Pipeline(steps=[('standard_scaler', StandardScaler()),\n",
      "                ('model', SVC(C=2.8, gamma=1.0))])\n",
      "SVM Model Best Parameter:  {'model__C': 2.8, 'model__gamma': 1.0, 'model__kernel': 'rbf'}\n",
      "SVM Model Best Score:  0.6518181818181817\n"
     ]
    }
   ],
   "source": [
    "print('SVM Model Best Estimator: ', grid_search.best_estimator_)\n",
    "print('SVM Model Best Parameter: ', grid_search.best_params_)\n",
    "print('SVM Model Best Score: ', grid_search.best_score_)"
   ]
  },
  {
   "cell_type": "markdown",
   "id": "dd1dd29d",
   "metadata": {},
   "source": [
    "## Logistic Regression"
   ]
  },
  {
   "cell_type": "code",
   "execution_count": 11,
   "id": "391f4880",
   "metadata": {},
   "outputs": [
    {
     "data": {
      "text/html": [
       "<style>#sk-container-id-3 {color: black;background-color: white;}#sk-container-id-3 pre{padding: 0;}#sk-container-id-3 div.sk-toggleable {background-color: white;}#sk-container-id-3 label.sk-toggleable__label {cursor: pointer;display: block;width: 100%;margin-bottom: 0;padding: 0.3em;box-sizing: border-box;text-align: center;}#sk-container-id-3 label.sk-toggleable__label-arrow:before {content: \"▸\";float: left;margin-right: 0.25em;color: #696969;}#sk-container-id-3 label.sk-toggleable__label-arrow:hover:before {color: black;}#sk-container-id-3 div.sk-estimator:hover label.sk-toggleable__label-arrow:before {color: black;}#sk-container-id-3 div.sk-toggleable__content {max-height: 0;max-width: 0;overflow: hidden;text-align: left;background-color: #f0f8ff;}#sk-container-id-3 div.sk-toggleable__content pre {margin: 0.2em;color: black;border-radius: 0.25em;background-color: #f0f8ff;}#sk-container-id-3 input.sk-toggleable__control:checked~div.sk-toggleable__content {max-height: 200px;max-width: 100%;overflow: auto;}#sk-container-id-3 input.sk-toggleable__control:checked~label.sk-toggleable__label-arrow:before {content: \"▾\";}#sk-container-id-3 div.sk-estimator input.sk-toggleable__control:checked~label.sk-toggleable__label {background-color: #d4ebff;}#sk-container-id-3 div.sk-label input.sk-toggleable__control:checked~label.sk-toggleable__label {background-color: #d4ebff;}#sk-container-id-3 input.sk-hidden--visually {border: 0;clip: rect(1px 1px 1px 1px);clip: rect(1px, 1px, 1px, 1px);height: 1px;margin: -1px;overflow: hidden;padding: 0;position: absolute;width: 1px;}#sk-container-id-3 div.sk-estimator {font-family: monospace;background-color: #f0f8ff;border: 1px dotted black;border-radius: 0.25em;box-sizing: border-box;margin-bottom: 0.5em;}#sk-container-id-3 div.sk-estimator:hover {background-color: #d4ebff;}#sk-container-id-3 div.sk-parallel-item::after {content: \"\";width: 100%;border-bottom: 1px solid gray;flex-grow: 1;}#sk-container-id-3 div.sk-label:hover label.sk-toggleable__label {background-color: #d4ebff;}#sk-container-id-3 div.sk-serial::before {content: \"\";position: absolute;border-left: 1px solid gray;box-sizing: border-box;top: 0;bottom: 0;left: 50%;z-index: 0;}#sk-container-id-3 div.sk-serial {display: flex;flex-direction: column;align-items: center;background-color: white;padding-right: 0.2em;padding-left: 0.2em;position: relative;}#sk-container-id-3 div.sk-item {position: relative;z-index: 1;}#sk-container-id-3 div.sk-parallel {display: flex;align-items: stretch;justify-content: center;background-color: white;position: relative;}#sk-container-id-3 div.sk-item::before, #sk-container-id-3 div.sk-parallel-item::before {content: \"\";position: absolute;border-left: 1px solid gray;box-sizing: border-box;top: 0;bottom: 0;left: 50%;z-index: -1;}#sk-container-id-3 div.sk-parallel-item {display: flex;flex-direction: column;z-index: 1;position: relative;background-color: white;}#sk-container-id-3 div.sk-parallel-item:first-child::after {align-self: flex-end;width: 50%;}#sk-container-id-3 div.sk-parallel-item:last-child::after {align-self: flex-start;width: 50%;}#sk-container-id-3 div.sk-parallel-item:only-child::after {width: 0;}#sk-container-id-3 div.sk-dashed-wrapped {border: 1px dashed gray;margin: 0 0.4em 0.5em 0.4em;box-sizing: border-box;padding-bottom: 0.4em;background-color: white;}#sk-container-id-3 div.sk-label label {font-family: monospace;font-weight: bold;display: inline-block;line-height: 1.2em;}#sk-container-id-3 div.sk-label-container {text-align: center;}#sk-container-id-3 div.sk-container {/* jupyter's `normalize.less` sets `[hidden] { display: none; }` but bootstrap.min.css set `[hidden] { display: none !important; }` so we also need the `!important` here to be able to override the default hidden behavior on the sphinx rendered scikit-learn.org. See: https://github.com/scikit-learn/scikit-learn/issues/21755 */display: inline-block !important;position: relative;}#sk-container-id-3 div.sk-text-repr-fallback {display: none;}</style><div id=\"sk-container-id-3\" class=\"sk-top-container\"><div class=\"sk-text-repr-fallback\"><pre>GridSearchCV(cv=KFold(n_splits=10, random_state=42, shuffle=True),\n",
       "             estimator=Pipeline(steps=[(&#x27;standard_scaler&#x27;, StandardScaler()),\n",
       "                                       (&#x27;model&#x27;, LogisticRegression())]),\n",
       "             n_jobs=-1,\n",
       "             param_grid=[{&#x27;model__penalty&#x27;: [&#x27;l2&#x27;],\n",
       "                          &#x27;model__solver&#x27;: [&#x27;newton-cg&#x27;, &#x27;lbfgs&#x27;, &#x27;sag&#x27;]},\n",
       "                         {&#x27;model__penalty&#x27;: [&#x27;l1&#x27;, &#x27;l2&#x27;],\n",
       "                          &#x27;model__solver&#x27;: [&#x27;liblinear&#x27;]},\n",
       "                         {&#x27;model__C&#x27;: [0.001, 0.01, 0.1, 1, 10, 100]}],\n",
       "             scoring=&#x27;accuracy&#x27;)</pre><b>In a Jupyter environment, please rerun this cell to show the HTML representation or trust the notebook. <br />On GitHub, the HTML representation is unable to render, please try loading this page with nbviewer.org.</b></div><div class=\"sk-container\" hidden><div class=\"sk-item sk-dashed-wrapped\"><div class=\"sk-label-container\"><div class=\"sk-label sk-toggleable\"><input class=\"sk-toggleable__control sk-hidden--visually\" id=\"sk-estimator-id-9\" type=\"checkbox\" ><label for=\"sk-estimator-id-9\" class=\"sk-toggleable__label sk-toggleable__label-arrow\">GridSearchCV</label><div class=\"sk-toggleable__content\"><pre>GridSearchCV(cv=KFold(n_splits=10, random_state=42, shuffle=True),\n",
       "             estimator=Pipeline(steps=[(&#x27;standard_scaler&#x27;, StandardScaler()),\n",
       "                                       (&#x27;model&#x27;, LogisticRegression())]),\n",
       "             n_jobs=-1,\n",
       "             param_grid=[{&#x27;model__penalty&#x27;: [&#x27;l2&#x27;],\n",
       "                          &#x27;model__solver&#x27;: [&#x27;newton-cg&#x27;, &#x27;lbfgs&#x27;, &#x27;sag&#x27;]},\n",
       "                         {&#x27;model__penalty&#x27;: [&#x27;l1&#x27;, &#x27;l2&#x27;],\n",
       "                          &#x27;model__solver&#x27;: [&#x27;liblinear&#x27;]},\n",
       "                         {&#x27;model__C&#x27;: [0.001, 0.01, 0.1, 1, 10, 100]}],\n",
       "             scoring=&#x27;accuracy&#x27;)</pre></div></div></div><div class=\"sk-parallel\"><div class=\"sk-parallel-item\"><div class=\"sk-item\"><div class=\"sk-label-container\"><div class=\"sk-label sk-toggleable\"><input class=\"sk-toggleable__control sk-hidden--visually\" id=\"sk-estimator-id-10\" type=\"checkbox\" ><label for=\"sk-estimator-id-10\" class=\"sk-toggleable__label sk-toggleable__label-arrow\">estimator: Pipeline</label><div class=\"sk-toggleable__content\"><pre>Pipeline(steps=[(&#x27;standard_scaler&#x27;, StandardScaler()),\n",
       "                (&#x27;model&#x27;, LogisticRegression())])</pre></div></div></div><div class=\"sk-serial\"><div class=\"sk-item\"><div class=\"sk-serial\"><div class=\"sk-item\"><div class=\"sk-estimator sk-toggleable\"><input class=\"sk-toggleable__control sk-hidden--visually\" id=\"sk-estimator-id-11\" type=\"checkbox\" ><label for=\"sk-estimator-id-11\" class=\"sk-toggleable__label sk-toggleable__label-arrow\">StandardScaler</label><div class=\"sk-toggleable__content\"><pre>StandardScaler()</pre></div></div></div><div class=\"sk-item\"><div class=\"sk-estimator sk-toggleable\"><input class=\"sk-toggleable__control sk-hidden--visually\" id=\"sk-estimator-id-12\" type=\"checkbox\" ><label for=\"sk-estimator-id-12\" class=\"sk-toggleable__label sk-toggleable__label-arrow\">LogisticRegression</label><div class=\"sk-toggleable__content\"><pre>LogisticRegression()</pre></div></div></div></div></div></div></div></div></div></div></div></div>"
      ],
      "text/plain": [
       "GridSearchCV(cv=KFold(n_splits=10, random_state=42, shuffle=True),\n",
       "             estimator=Pipeline(steps=[('standard_scaler', StandardScaler()),\n",
       "                                       ('model', LogisticRegression())]),\n",
       "             n_jobs=-1,\n",
       "             param_grid=[{'model__penalty': ['l2'],\n",
       "                          'model__solver': ['newton-cg', 'lbfgs', 'sag']},\n",
       "                         {'model__penalty': ['l1', 'l2'],\n",
       "                          'model__solver': ['liblinear']},\n",
       "                         {'model__C': [0.001, 0.01, 0.1, 1, 10, 100]}],\n",
       "             scoring='accuracy')"
      ]
     },
     "execution_count": 11,
     "metadata": {},
     "output_type": "execute_result"
    }
   ],
   "source": [
    "standard_scaler = StandardScaler()\n",
    "\n",
    "LR = LogisticRegression()\n",
    "LR_parameter = [\n",
    "    {'model__solver': ['newton-cg', 'lbfgs', 'sag'], 'model__penalty': ['l2']},\n",
    "    {'model__solver': ['liblinear'], 'model__penalty': ['l1', 'l2']},\n",
    "    {'model__C': [0.001, 0.01, 0.1, 1, 10, 100]}\n",
    "]\n",
    "\n",
    "pipeline = Pipeline([('standard_scaler', standard_scaler), ('model', LR)])\n",
    "\n",
    "grid_search = GridSearchCV(estimator=pipeline, param_grid=LR_parameter, cv=cross_validation, scoring='accuracy', n_jobs=-1, verbose=0)\n",
    "grid_search.fit(X, y)\n"
   ]
  },
  {
   "cell_type": "code",
   "execution_count": 12,
   "id": "536f91ac",
   "metadata": {},
   "outputs": [
    {
     "name": "stdout",
     "output_type": "stream",
     "text": [
      "Logistic Regression Model Best Estimator:  Pipeline(steps=[('standard_scaler', StandardScaler()),\n",
      "                ('model', LogisticRegression(solver='newton-cg'))])\n",
      "Logistic Regression Model Best Parameter:  {'model__penalty': 'l2', 'model__solver': 'newton-cg'}\n",
      "Logistic Regression Model Best Score:  0.6036363636363636\n"
     ]
    }
   ],
   "source": [
    "print('Logistic Regression Model Best Estimator: ', grid_search.best_estimator_)\n",
    "print('Logistic Regression Model Best Parameter: ', grid_search.best_params_)\n",
    "print('Logistic Regression Model Best Score: ', grid_search.best_score_)"
   ]
  },
  {
   "cell_type": "markdown",
   "id": "acf852bb",
   "metadata": {},
   "source": [
    "## Decision Tree"
   ]
  },
  {
   "cell_type": "code",
   "execution_count": 13,
   "id": "ccadfe89",
   "metadata": {},
   "outputs": [
    {
     "data": {
      "text/html": [
       "<style>#sk-container-id-4 {color: black;background-color: white;}#sk-container-id-4 pre{padding: 0;}#sk-container-id-4 div.sk-toggleable {background-color: white;}#sk-container-id-4 label.sk-toggleable__label {cursor: pointer;display: block;width: 100%;margin-bottom: 0;padding: 0.3em;box-sizing: border-box;text-align: center;}#sk-container-id-4 label.sk-toggleable__label-arrow:before {content: \"▸\";float: left;margin-right: 0.25em;color: #696969;}#sk-container-id-4 label.sk-toggleable__label-arrow:hover:before {color: black;}#sk-container-id-4 div.sk-estimator:hover label.sk-toggleable__label-arrow:before {color: black;}#sk-container-id-4 div.sk-toggleable__content {max-height: 0;max-width: 0;overflow: hidden;text-align: left;background-color: #f0f8ff;}#sk-container-id-4 div.sk-toggleable__content pre {margin: 0.2em;color: black;border-radius: 0.25em;background-color: #f0f8ff;}#sk-container-id-4 input.sk-toggleable__control:checked~div.sk-toggleable__content {max-height: 200px;max-width: 100%;overflow: auto;}#sk-container-id-4 input.sk-toggleable__control:checked~label.sk-toggleable__label-arrow:before {content: \"▾\";}#sk-container-id-4 div.sk-estimator input.sk-toggleable__control:checked~label.sk-toggleable__label {background-color: #d4ebff;}#sk-container-id-4 div.sk-label input.sk-toggleable__control:checked~label.sk-toggleable__label {background-color: #d4ebff;}#sk-container-id-4 input.sk-hidden--visually {border: 0;clip: rect(1px 1px 1px 1px);clip: rect(1px, 1px, 1px, 1px);height: 1px;margin: -1px;overflow: hidden;padding: 0;position: absolute;width: 1px;}#sk-container-id-4 div.sk-estimator {font-family: monospace;background-color: #f0f8ff;border: 1px dotted black;border-radius: 0.25em;box-sizing: border-box;margin-bottom: 0.5em;}#sk-container-id-4 div.sk-estimator:hover {background-color: #d4ebff;}#sk-container-id-4 div.sk-parallel-item::after {content: \"\";width: 100%;border-bottom: 1px solid gray;flex-grow: 1;}#sk-container-id-4 div.sk-label:hover label.sk-toggleable__label {background-color: #d4ebff;}#sk-container-id-4 div.sk-serial::before {content: \"\";position: absolute;border-left: 1px solid gray;box-sizing: border-box;top: 0;bottom: 0;left: 50%;z-index: 0;}#sk-container-id-4 div.sk-serial {display: flex;flex-direction: column;align-items: center;background-color: white;padding-right: 0.2em;padding-left: 0.2em;position: relative;}#sk-container-id-4 div.sk-item {position: relative;z-index: 1;}#sk-container-id-4 div.sk-parallel {display: flex;align-items: stretch;justify-content: center;background-color: white;position: relative;}#sk-container-id-4 div.sk-item::before, #sk-container-id-4 div.sk-parallel-item::before {content: \"\";position: absolute;border-left: 1px solid gray;box-sizing: border-box;top: 0;bottom: 0;left: 50%;z-index: -1;}#sk-container-id-4 div.sk-parallel-item {display: flex;flex-direction: column;z-index: 1;position: relative;background-color: white;}#sk-container-id-4 div.sk-parallel-item:first-child::after {align-self: flex-end;width: 50%;}#sk-container-id-4 div.sk-parallel-item:last-child::after {align-self: flex-start;width: 50%;}#sk-container-id-4 div.sk-parallel-item:only-child::after {width: 0;}#sk-container-id-4 div.sk-dashed-wrapped {border: 1px dashed gray;margin: 0 0.4em 0.5em 0.4em;box-sizing: border-box;padding-bottom: 0.4em;background-color: white;}#sk-container-id-4 div.sk-label label {font-family: monospace;font-weight: bold;display: inline-block;line-height: 1.2em;}#sk-container-id-4 div.sk-label-container {text-align: center;}#sk-container-id-4 div.sk-container {/* jupyter's `normalize.less` sets `[hidden] { display: none; }` but bootstrap.min.css set `[hidden] { display: none !important; }` so we also need the `!important` here to be able to override the default hidden behavior on the sphinx rendered scikit-learn.org. See: https://github.com/scikit-learn/scikit-learn/issues/21755 */display: inline-block !important;position: relative;}#sk-container-id-4 div.sk-text-repr-fallback {display: none;}</style><div id=\"sk-container-id-4\" class=\"sk-top-container\"><div class=\"sk-text-repr-fallback\"><pre>GridSearchCV(cv=KFold(n_splits=10, random_state=42, shuffle=True),\n",
       "             estimator=Pipeline(steps=[(&#x27;standard_scaler&#x27;, StandardScaler()),\n",
       "                                       (&#x27;model&#x27;,\n",
       "                                        DecisionTreeClassifier(criterion=&#x27;entropy&#x27;,\n",
       "                                                               random_state=42))]),\n",
       "             n_jobs=-1,\n",
       "             param_grid={&#x27;model__max_depth&#x27;: [1, 2, 3, 4, 5, 6, 7, 8, 9, 10, 11,\n",
       "                                              12, 13, 14],\n",
       "                         &#x27;model__max_leaf_nodes&#x27;: [2, 3, 4, 5, 6, 7, 8, 9, 10,\n",
       "                                                   11, 12, 13, 14]},\n",
       "             scoring=&#x27;accuracy&#x27;)</pre><b>In a Jupyter environment, please rerun this cell to show the HTML representation or trust the notebook. <br />On GitHub, the HTML representation is unable to render, please try loading this page with nbviewer.org.</b></div><div class=\"sk-container\" hidden><div class=\"sk-item sk-dashed-wrapped\"><div class=\"sk-label-container\"><div class=\"sk-label sk-toggleable\"><input class=\"sk-toggleable__control sk-hidden--visually\" id=\"sk-estimator-id-13\" type=\"checkbox\" ><label for=\"sk-estimator-id-13\" class=\"sk-toggleable__label sk-toggleable__label-arrow\">GridSearchCV</label><div class=\"sk-toggleable__content\"><pre>GridSearchCV(cv=KFold(n_splits=10, random_state=42, shuffle=True),\n",
       "             estimator=Pipeline(steps=[(&#x27;standard_scaler&#x27;, StandardScaler()),\n",
       "                                       (&#x27;model&#x27;,\n",
       "                                        DecisionTreeClassifier(criterion=&#x27;entropy&#x27;,\n",
       "                                                               random_state=42))]),\n",
       "             n_jobs=-1,\n",
       "             param_grid={&#x27;model__max_depth&#x27;: [1, 2, 3, 4, 5, 6, 7, 8, 9, 10, 11,\n",
       "                                              12, 13, 14],\n",
       "                         &#x27;model__max_leaf_nodes&#x27;: [2, 3, 4, 5, 6, 7, 8, 9, 10,\n",
       "                                                   11, 12, 13, 14]},\n",
       "             scoring=&#x27;accuracy&#x27;)</pre></div></div></div><div class=\"sk-parallel\"><div class=\"sk-parallel-item\"><div class=\"sk-item\"><div class=\"sk-label-container\"><div class=\"sk-label sk-toggleable\"><input class=\"sk-toggleable__control sk-hidden--visually\" id=\"sk-estimator-id-14\" type=\"checkbox\" ><label for=\"sk-estimator-id-14\" class=\"sk-toggleable__label sk-toggleable__label-arrow\">estimator: Pipeline</label><div class=\"sk-toggleable__content\"><pre>Pipeline(steps=[(&#x27;standard_scaler&#x27;, StandardScaler()),\n",
       "                (&#x27;model&#x27;,\n",
       "                 DecisionTreeClassifier(criterion=&#x27;entropy&#x27;, random_state=42))])</pre></div></div></div><div class=\"sk-serial\"><div class=\"sk-item\"><div class=\"sk-serial\"><div class=\"sk-item\"><div class=\"sk-estimator sk-toggleable\"><input class=\"sk-toggleable__control sk-hidden--visually\" id=\"sk-estimator-id-15\" type=\"checkbox\" ><label for=\"sk-estimator-id-15\" class=\"sk-toggleable__label sk-toggleable__label-arrow\">StandardScaler</label><div class=\"sk-toggleable__content\"><pre>StandardScaler()</pre></div></div></div><div class=\"sk-item\"><div class=\"sk-estimator sk-toggleable\"><input class=\"sk-toggleable__control sk-hidden--visually\" id=\"sk-estimator-id-16\" type=\"checkbox\" ><label for=\"sk-estimator-id-16\" class=\"sk-toggleable__label sk-toggleable__label-arrow\">DecisionTreeClassifier</label><div class=\"sk-toggleable__content\"><pre>DecisionTreeClassifier(criterion=&#x27;entropy&#x27;, random_state=42)</pre></div></div></div></div></div></div></div></div></div></div></div></div>"
      ],
      "text/plain": [
       "GridSearchCV(cv=KFold(n_splits=10, random_state=42, shuffle=True),\n",
       "             estimator=Pipeline(steps=[('standard_scaler', StandardScaler()),\n",
       "                                       ('model',\n",
       "                                        DecisionTreeClassifier(criterion='entropy',\n",
       "                                                               random_state=42))]),\n",
       "             n_jobs=-1,\n",
       "             param_grid={'model__max_depth': [1, 2, 3, 4, 5, 6, 7, 8, 9, 10, 11,\n",
       "                                              12, 13, 14],\n",
       "                         'model__max_leaf_nodes': [2, 3, 4, 5, 6, 7, 8, 9, 10,\n",
       "                                                   11, 12, 13, 14]},\n",
       "             scoring='accuracy')"
      ]
     },
     "execution_count": 13,
     "metadata": {},
     "output_type": "execute_result"
    }
   ],
   "source": [
    "standard_scaler = StandardScaler()\n",
    "\n",
    "DT = DecisionTreeClassifier(criterion='entropy', random_state=42)\n",
    "DT_parameter = {\n",
    "    'model__max_depth': list(range(1, 15)),\n",
    "    'model__max_leaf_nodes': list(range(2, 15))\n",
    "}\n",
    "\n",
    "pipeline = Pipeline([('standard_scaler', standard_scaler), ('model', DT)])\n",
    "\n",
    "grid_search = GridSearchCV(estimator=pipeline, param_grid=DT_parameter, cv=cross_validation, scoring='accuracy', n_jobs=-1, verbose=0)\n",
    "grid_search.fit(X, y)\n"
   ]
  },
  {
   "cell_type": "code",
   "execution_count": 14,
   "id": "e066074f",
   "metadata": {},
   "outputs": [
    {
     "name": "stdout",
     "output_type": "stream",
     "text": [
      "Decision Tree Model Best Estimator:  Pipeline(steps=[('standard_scaler', StandardScaler()),\n",
      "                ('model',\n",
      "                 DecisionTreeClassifier(criterion='entropy', max_depth=5,\n",
      "                                        max_leaf_nodes=8, random_state=42))])\n",
      "Decision Tree Model Best Parameter:  {'model__max_depth': 5, 'model__max_leaf_nodes': 8}\n",
      "Decision Tree Model Best Score:  0.7018181818181819\n"
     ]
    }
   ],
   "source": [
    "print('Decision Tree Model Best Estimator: ', grid_search.best_estimator_)\n",
    "print('Decision Tree Model Best Parameter: ', grid_search.best_params_)\n",
    "print('Decision Tree Model Best Score: ', grid_search.best_score_)"
   ]
  },
  {
   "cell_type": "markdown",
   "id": "2fc62628",
   "metadata": {},
   "source": [
    "## XGBoost"
   ]
  },
  {
   "cell_type": "code",
   "execution_count": 15,
   "id": "e20482fe",
   "metadata": {},
   "outputs": [
    {
     "data": {
      "text/html": [
       "<style>#sk-container-id-5 {color: black;background-color: white;}#sk-container-id-5 pre{padding: 0;}#sk-container-id-5 div.sk-toggleable {background-color: white;}#sk-container-id-5 label.sk-toggleable__label {cursor: pointer;display: block;width: 100%;margin-bottom: 0;padding: 0.3em;box-sizing: border-box;text-align: center;}#sk-container-id-5 label.sk-toggleable__label-arrow:before {content: \"▸\";float: left;margin-right: 0.25em;color: #696969;}#sk-container-id-5 label.sk-toggleable__label-arrow:hover:before {color: black;}#sk-container-id-5 div.sk-estimator:hover label.sk-toggleable__label-arrow:before {color: black;}#sk-container-id-5 div.sk-toggleable__content {max-height: 0;max-width: 0;overflow: hidden;text-align: left;background-color: #f0f8ff;}#sk-container-id-5 div.sk-toggleable__content pre {margin: 0.2em;color: black;border-radius: 0.25em;background-color: #f0f8ff;}#sk-container-id-5 input.sk-toggleable__control:checked~div.sk-toggleable__content {max-height: 200px;max-width: 100%;overflow: auto;}#sk-container-id-5 input.sk-toggleable__control:checked~label.sk-toggleable__label-arrow:before {content: \"▾\";}#sk-container-id-5 div.sk-estimator input.sk-toggleable__control:checked~label.sk-toggleable__label {background-color: #d4ebff;}#sk-container-id-5 div.sk-label input.sk-toggleable__control:checked~label.sk-toggleable__label {background-color: #d4ebff;}#sk-container-id-5 input.sk-hidden--visually {border: 0;clip: rect(1px 1px 1px 1px);clip: rect(1px, 1px, 1px, 1px);height: 1px;margin: -1px;overflow: hidden;padding: 0;position: absolute;width: 1px;}#sk-container-id-5 div.sk-estimator {font-family: monospace;background-color: #f0f8ff;border: 1px dotted black;border-radius: 0.25em;box-sizing: border-box;margin-bottom: 0.5em;}#sk-container-id-5 div.sk-estimator:hover {background-color: #d4ebff;}#sk-container-id-5 div.sk-parallel-item::after {content: \"\";width: 100%;border-bottom: 1px solid gray;flex-grow: 1;}#sk-container-id-5 div.sk-label:hover label.sk-toggleable__label {background-color: #d4ebff;}#sk-container-id-5 div.sk-serial::before {content: \"\";position: absolute;border-left: 1px solid gray;box-sizing: border-box;top: 0;bottom: 0;left: 50%;z-index: 0;}#sk-container-id-5 div.sk-serial {display: flex;flex-direction: column;align-items: center;background-color: white;padding-right: 0.2em;padding-left: 0.2em;position: relative;}#sk-container-id-5 div.sk-item {position: relative;z-index: 1;}#sk-container-id-5 div.sk-parallel {display: flex;align-items: stretch;justify-content: center;background-color: white;position: relative;}#sk-container-id-5 div.sk-item::before, #sk-container-id-5 div.sk-parallel-item::before {content: \"\";position: absolute;border-left: 1px solid gray;box-sizing: border-box;top: 0;bottom: 0;left: 50%;z-index: -1;}#sk-container-id-5 div.sk-parallel-item {display: flex;flex-direction: column;z-index: 1;position: relative;background-color: white;}#sk-container-id-5 div.sk-parallel-item:first-child::after {align-self: flex-end;width: 50%;}#sk-container-id-5 div.sk-parallel-item:last-child::after {align-self: flex-start;width: 50%;}#sk-container-id-5 div.sk-parallel-item:only-child::after {width: 0;}#sk-container-id-5 div.sk-dashed-wrapped {border: 1px dashed gray;margin: 0 0.4em 0.5em 0.4em;box-sizing: border-box;padding-bottom: 0.4em;background-color: white;}#sk-container-id-5 div.sk-label label {font-family: monospace;font-weight: bold;display: inline-block;line-height: 1.2em;}#sk-container-id-5 div.sk-label-container {text-align: center;}#sk-container-id-5 div.sk-container {/* jupyter's `normalize.less` sets `[hidden] { display: none; }` but bootstrap.min.css set `[hidden] { display: none !important; }` so we also need the `!important` here to be able to override the default hidden behavior on the sphinx rendered scikit-learn.org. See: https://github.com/scikit-learn/scikit-learn/issues/21755 */display: inline-block !important;position: relative;}#sk-container-id-5 div.sk-text-repr-fallback {display: none;}</style><div id=\"sk-container-id-5\" class=\"sk-top-container\"><div class=\"sk-text-repr-fallback\"><pre>GridSearchCV(cv=KFold(n_splits=10, random_state=42, shuffle=True),\n",
       "             estimator=Pipeline(steps=[(&#x27;standard_scaler&#x27;, StandardScaler()),\n",
       "                                       (&#x27;model&#x27;,\n",
       "                                        XGBClassifier(base_score=None,\n",
       "                                                      booster=None,\n",
       "                                                      callbacks=None,\n",
       "                                                      colsample_bylevel=None,\n",
       "                                                      colsample_bynode=None,\n",
       "                                                      colsample_bytree=None,\n",
       "                                                      early_stopping_rounds=None,\n",
       "                                                      enable_categorical=False,\n",
       "                                                      eval_metric=None,\n",
       "                                                      feature_types=None,\n",
       "                                                      g...\n",
       "                                                      missing=nan,\n",
       "                                                      monotone_constraints=None,\n",
       "                                                      n_estimators=600,\n",
       "                                                      n_jobs=None, nthread=1,\n",
       "                                                      num_parallel_tree=None,\n",
       "                                                      predictor=None, ...))]),\n",
       "             n_jobs=-1,\n",
       "             param_grid={&#x27;model__colsample_bytree&#x27;: [0.6, 0.8, 1.0],\n",
       "                         &#x27;model__gamma&#x27;: [1, 2, 3, 4],\n",
       "                         &#x27;model__max_depth&#x27;: [1, 2, 3, 4, 5, 6, 7],\n",
       "                         &#x27;model__min_child_weight&#x27;: [1, 2, 3, 4, 5, 6, 7, 8, 9],\n",
       "                         &#x27;model__subsample&#x27;: [0.2, 0.4, 0.6, 0.8, 1.0]},\n",
       "             scoring=&#x27;accuracy&#x27;)</pre><b>In a Jupyter environment, please rerun this cell to show the HTML representation or trust the notebook. <br />On GitHub, the HTML representation is unable to render, please try loading this page with nbviewer.org.</b></div><div class=\"sk-container\" hidden><div class=\"sk-item sk-dashed-wrapped\"><div class=\"sk-label-container\"><div class=\"sk-label sk-toggleable\"><input class=\"sk-toggleable__control sk-hidden--visually\" id=\"sk-estimator-id-17\" type=\"checkbox\" ><label for=\"sk-estimator-id-17\" class=\"sk-toggleable__label sk-toggleable__label-arrow\">GridSearchCV</label><div class=\"sk-toggleable__content\"><pre>GridSearchCV(cv=KFold(n_splits=10, random_state=42, shuffle=True),\n",
       "             estimator=Pipeline(steps=[(&#x27;standard_scaler&#x27;, StandardScaler()),\n",
       "                                       (&#x27;model&#x27;,\n",
       "                                        XGBClassifier(base_score=None,\n",
       "                                                      booster=None,\n",
       "                                                      callbacks=None,\n",
       "                                                      colsample_bylevel=None,\n",
       "                                                      colsample_bynode=None,\n",
       "                                                      colsample_bytree=None,\n",
       "                                                      early_stopping_rounds=None,\n",
       "                                                      enable_categorical=False,\n",
       "                                                      eval_metric=None,\n",
       "                                                      feature_types=None,\n",
       "                                                      g...\n",
       "                                                      missing=nan,\n",
       "                                                      monotone_constraints=None,\n",
       "                                                      n_estimators=600,\n",
       "                                                      n_jobs=None, nthread=1,\n",
       "                                                      num_parallel_tree=None,\n",
       "                                                      predictor=None, ...))]),\n",
       "             n_jobs=-1,\n",
       "             param_grid={&#x27;model__colsample_bytree&#x27;: [0.6, 0.8, 1.0],\n",
       "                         &#x27;model__gamma&#x27;: [1, 2, 3, 4],\n",
       "                         &#x27;model__max_depth&#x27;: [1, 2, 3, 4, 5, 6, 7],\n",
       "                         &#x27;model__min_child_weight&#x27;: [1, 2, 3, 4, 5, 6, 7, 8, 9],\n",
       "                         &#x27;model__subsample&#x27;: [0.2, 0.4, 0.6, 0.8, 1.0]},\n",
       "             scoring=&#x27;accuracy&#x27;)</pre></div></div></div><div class=\"sk-parallel\"><div class=\"sk-parallel-item\"><div class=\"sk-item\"><div class=\"sk-label-container\"><div class=\"sk-label sk-toggleable\"><input class=\"sk-toggleable__control sk-hidden--visually\" id=\"sk-estimator-id-18\" type=\"checkbox\" ><label for=\"sk-estimator-id-18\" class=\"sk-toggleable__label sk-toggleable__label-arrow\">estimator: Pipeline</label><div class=\"sk-toggleable__content\"><pre>Pipeline(steps=[(&#x27;standard_scaler&#x27;, StandardScaler()),\n",
       "                (&#x27;model&#x27;,\n",
       "                 XGBClassifier(base_score=None, booster=None, callbacks=None,\n",
       "                               colsample_bylevel=None, colsample_bynode=None,\n",
       "                               colsample_bytree=None,\n",
       "                               early_stopping_rounds=None,\n",
       "                               enable_categorical=False, eval_metric=None,\n",
       "                               feature_types=None, gamma=None, gpu_id=None,\n",
       "                               grow_policy=None, importance_type=None,\n",
       "                               interaction_constraints=None, learning_rate=0.02,\n",
       "                               max_bin=None, max_cat_threshold=None,\n",
       "                               max_cat_to_onehot=None, max_delta_step=None,\n",
       "                               max_depth=None, max_leaves=None,\n",
       "                               min_child_weight=None, missing=nan,\n",
       "                               monotone_constraints=None, n_estimators=600,\n",
       "                               n_jobs=None, nthread=1, num_parallel_tree=None,\n",
       "                               predictor=None, ...))])</pre></div></div></div><div class=\"sk-serial\"><div class=\"sk-item\"><div class=\"sk-serial\"><div class=\"sk-item\"><div class=\"sk-estimator sk-toggleable\"><input class=\"sk-toggleable__control sk-hidden--visually\" id=\"sk-estimator-id-19\" type=\"checkbox\" ><label for=\"sk-estimator-id-19\" class=\"sk-toggleable__label sk-toggleable__label-arrow\">StandardScaler</label><div class=\"sk-toggleable__content\"><pre>StandardScaler()</pre></div></div></div><div class=\"sk-item\"><div class=\"sk-estimator sk-toggleable\"><input class=\"sk-toggleable__control sk-hidden--visually\" id=\"sk-estimator-id-20\" type=\"checkbox\" ><label for=\"sk-estimator-id-20\" class=\"sk-toggleable__label sk-toggleable__label-arrow\">XGBClassifier</label><div class=\"sk-toggleable__content\"><pre>XGBClassifier(base_score=None, booster=None, callbacks=None,\n",
       "              colsample_bylevel=None, colsample_bynode=None,\n",
       "              colsample_bytree=None, early_stopping_rounds=None,\n",
       "              enable_categorical=False, eval_metric=None, feature_types=None,\n",
       "              gamma=None, gpu_id=None, grow_policy=None, importance_type=None,\n",
       "              interaction_constraints=None, learning_rate=0.02, max_bin=None,\n",
       "              max_cat_threshold=None, max_cat_to_onehot=None,\n",
       "              max_delta_step=None, max_depth=None, max_leaves=None,\n",
       "              min_child_weight=None, missing=nan, monotone_constraints=None,\n",
       "              n_estimators=600, n_jobs=None, nthread=1, num_parallel_tree=None,\n",
       "              predictor=None, ...)</pre></div></div></div></div></div></div></div></div></div></div></div></div>"
      ],
      "text/plain": [
       "GridSearchCV(cv=KFold(n_splits=10, random_state=42, shuffle=True),\n",
       "             estimator=Pipeline(steps=[('standard_scaler', StandardScaler()),\n",
       "                                       ('model',\n",
       "                                        XGBClassifier(base_score=None,\n",
       "                                                      booster=None,\n",
       "                                                      callbacks=None,\n",
       "                                                      colsample_bylevel=None,\n",
       "                                                      colsample_bynode=None,\n",
       "                                                      colsample_bytree=None,\n",
       "                                                      early_stopping_rounds=None,\n",
       "                                                      enable_categorical=False,\n",
       "                                                      eval_metric=None,\n",
       "                                                      feature_types=None,\n",
       "                                                      g...\n",
       "                                                      missing=nan,\n",
       "                                                      monotone_constraints=None,\n",
       "                                                      n_estimators=600,\n",
       "                                                      n_jobs=None, nthread=1,\n",
       "                                                      num_parallel_tree=None,\n",
       "                                                      predictor=None, ...))]),\n",
       "             n_jobs=-1,\n",
       "             param_grid={'model__colsample_bytree': [0.6, 0.8, 1.0],\n",
       "                         'model__gamma': [1, 2, 3, 4],\n",
       "                         'model__max_depth': [1, 2, 3, 4, 5, 6, 7],\n",
       "                         'model__min_child_weight': [1, 2, 3, 4, 5, 6, 7, 8, 9],\n",
       "                         'model__subsample': [0.2, 0.4, 0.6, 0.8, 1.0]},\n",
       "             scoring='accuracy')"
      ]
     },
     "execution_count": 15,
     "metadata": {},
     "output_type": "execute_result"
    }
   ],
   "source": [
    "standard_scaler = StandardScaler()\n",
    "\n",
    "XGBoost = XGBClassifier(learning_rate=0.02, n_estimators=600, objective='binary:logistic', nthread=1)\n",
    "XGBoost_parameter = {\n",
    "    'model__min_child_weight': list(range(1, 10)),\n",
    "    'model__gamma': list(range(1, 5)),\n",
    "    'model__subsample': [0.2, 0.4, 0.6, 0.8, 1.0],\n",
    "    'model__colsample_bytree': [0.6, 0.8, 1.0],\n",
    "    'model__max_depth': list(range(1, 8))\n",
    "}\n",
    "\n",
    "pipeline = Pipeline([('standard_scaler', standard_scaler), ('model', XGBoost)])\n",
    "\n",
    "grid_search = GridSearchCV(estimator=pipeline, param_grid=XGBoost_parameter, cv=cross_validation, scoring='accuracy', n_jobs=-1, verbose=0)\n",
    "grid_search.fit(X, y)"
   ]
  },
  {
   "cell_type": "code",
   "execution_count": 16,
   "id": "908172ab",
   "metadata": {},
   "outputs": [
    {
     "name": "stdout",
     "output_type": "stream",
     "text": [
      "XGBoost Model Best Estimator:  Pipeline(steps=[('standard_scaler', StandardScaler()),\n",
      "                ('model',\n",
      "                 XGBClassifier(base_score=None, booster=None, callbacks=None,\n",
      "                               colsample_bylevel=None, colsample_bynode=None,\n",
      "                               colsample_bytree=1.0, early_stopping_rounds=None,\n",
      "                               enable_categorical=False, eval_metric=None,\n",
      "                               feature_types=None, gamma=1, gpu_id=None,\n",
      "                               grow_policy=None, importance_type=None,\n",
      "                               interaction_constraints=None, learning_rate=0.02,\n",
      "                               max_bin=None, max_cat_threshold=None,\n",
      "                               max_cat_to_onehot=None, max_delta_step=None,\n",
      "                               max_depth=5, max_leaves=None, min_child_weight=1,\n",
      "                               missing=nan, monotone_constraints=None,\n",
      "                               n_estimators=600, n_jobs=None, nthread=1,\n",
      "                               num_parallel_tree=None, predictor=None, ...))])\n",
      "XGBoost Model Best Parameter:  {'model__colsample_bytree': 1.0, 'model__gamma': 1, 'model__max_depth': 5, 'model__min_child_weight': 1, 'model__subsample': 1.0}\n",
      "XGBoost Model Best Score:  0.7109090909090908\n"
     ]
    }
   ],
   "source": [
    "print('XGBoost Model Best Estimator: ', grid_search.best_estimator_)\n",
    "print('XGBoost Model Best Parameter: ', grid_search.best_params_)\n",
    "print('XGBoost Model Best Score: ', grid_search.best_score_)"
   ]
  },
  {
   "cell_type": "markdown",
   "id": "56dba3c1",
   "metadata": {},
   "source": [
    "## Neural Network"
   ]
  },
  {
   "cell_type": "code",
   "execution_count": 17,
   "id": "2621584f",
   "metadata": {},
   "outputs": [
    {
     "name": "stderr",
     "output_type": "stream",
     "text": [
      "/Users/sippathamm/anaconda3/envs/ML/lib/python3.11/site-packages/sklearn/neural_network/_multilayer_perceptron.py:541: ConvergenceWarning: lbfgs failed to converge (status=1):\n",
      "STOP: TOTAL NO. of f AND g EVALUATIONS EXCEEDS LIMIT.\n",
      "\n",
      "Increase the number of iterations (max_iter) or scale the data as shown in:\n",
      "    https://scikit-learn.org/stable/modules/preprocessing.html\n",
      "  self.n_iter_ = _check_optimize_result(\"lbfgs\", opt_res, self.max_iter)\n"
     ]
    },
    {
     "data": {
      "text/html": [
       "<style>#sk-container-id-6 {color: black;background-color: white;}#sk-container-id-6 pre{padding: 0;}#sk-container-id-6 div.sk-toggleable {background-color: white;}#sk-container-id-6 label.sk-toggleable__label {cursor: pointer;display: block;width: 100%;margin-bottom: 0;padding: 0.3em;box-sizing: border-box;text-align: center;}#sk-container-id-6 label.sk-toggleable__label-arrow:before {content: \"▸\";float: left;margin-right: 0.25em;color: #696969;}#sk-container-id-6 label.sk-toggleable__label-arrow:hover:before {color: black;}#sk-container-id-6 div.sk-estimator:hover label.sk-toggleable__label-arrow:before {color: black;}#sk-container-id-6 div.sk-toggleable__content {max-height: 0;max-width: 0;overflow: hidden;text-align: left;background-color: #f0f8ff;}#sk-container-id-6 div.sk-toggleable__content pre {margin: 0.2em;color: black;border-radius: 0.25em;background-color: #f0f8ff;}#sk-container-id-6 input.sk-toggleable__control:checked~div.sk-toggleable__content {max-height: 200px;max-width: 100%;overflow: auto;}#sk-container-id-6 input.sk-toggleable__control:checked~label.sk-toggleable__label-arrow:before {content: \"▾\";}#sk-container-id-6 div.sk-estimator input.sk-toggleable__control:checked~label.sk-toggleable__label {background-color: #d4ebff;}#sk-container-id-6 div.sk-label input.sk-toggleable__control:checked~label.sk-toggleable__label {background-color: #d4ebff;}#sk-container-id-6 input.sk-hidden--visually {border: 0;clip: rect(1px 1px 1px 1px);clip: rect(1px, 1px, 1px, 1px);height: 1px;margin: -1px;overflow: hidden;padding: 0;position: absolute;width: 1px;}#sk-container-id-6 div.sk-estimator {font-family: monospace;background-color: #f0f8ff;border: 1px dotted black;border-radius: 0.25em;box-sizing: border-box;margin-bottom: 0.5em;}#sk-container-id-6 div.sk-estimator:hover {background-color: #d4ebff;}#sk-container-id-6 div.sk-parallel-item::after {content: \"\";width: 100%;border-bottom: 1px solid gray;flex-grow: 1;}#sk-container-id-6 div.sk-label:hover label.sk-toggleable__label {background-color: #d4ebff;}#sk-container-id-6 div.sk-serial::before {content: \"\";position: absolute;border-left: 1px solid gray;box-sizing: border-box;top: 0;bottom: 0;left: 50%;z-index: 0;}#sk-container-id-6 div.sk-serial {display: flex;flex-direction: column;align-items: center;background-color: white;padding-right: 0.2em;padding-left: 0.2em;position: relative;}#sk-container-id-6 div.sk-item {position: relative;z-index: 1;}#sk-container-id-6 div.sk-parallel {display: flex;align-items: stretch;justify-content: center;background-color: white;position: relative;}#sk-container-id-6 div.sk-item::before, #sk-container-id-6 div.sk-parallel-item::before {content: \"\";position: absolute;border-left: 1px solid gray;box-sizing: border-box;top: 0;bottom: 0;left: 50%;z-index: -1;}#sk-container-id-6 div.sk-parallel-item {display: flex;flex-direction: column;z-index: 1;position: relative;background-color: white;}#sk-container-id-6 div.sk-parallel-item:first-child::after {align-self: flex-end;width: 50%;}#sk-container-id-6 div.sk-parallel-item:last-child::after {align-self: flex-start;width: 50%;}#sk-container-id-6 div.sk-parallel-item:only-child::after {width: 0;}#sk-container-id-6 div.sk-dashed-wrapped {border: 1px dashed gray;margin: 0 0.4em 0.5em 0.4em;box-sizing: border-box;padding-bottom: 0.4em;background-color: white;}#sk-container-id-6 div.sk-label label {font-family: monospace;font-weight: bold;display: inline-block;line-height: 1.2em;}#sk-container-id-6 div.sk-label-container {text-align: center;}#sk-container-id-6 div.sk-container {/* jupyter's `normalize.less` sets `[hidden] { display: none; }` but bootstrap.min.css set `[hidden] { display: none !important; }` so we also need the `!important` here to be able to override the default hidden behavior on the sphinx rendered scikit-learn.org. See: https://github.com/scikit-learn/scikit-learn/issues/21755 */display: inline-block !important;position: relative;}#sk-container-id-6 div.sk-text-repr-fallback {display: none;}</style><div id=\"sk-container-id-6\" class=\"sk-top-container\"><div class=\"sk-text-repr-fallback\"><pre>GridSearchCV(cv=KFold(n_splits=10, random_state=42, shuffle=True),\n",
       "             estimator=Pipeline(steps=[(&#x27;standard_scaler&#x27;, StandardScaler()),\n",
       "                                       (&#x27;model&#x27;,\n",
       "                                        MLPClassifier(max_iter=50000,\n",
       "                                                      random_state=42))]),\n",
       "             n_jobs=-1,\n",
       "             param_grid={&#x27;model__activation&#x27;: [&#x27;identity&#x27;, &#x27;logistic&#x27;, &#x27;tanh&#x27;,\n",
       "                                               &#x27;relu&#x27;],\n",
       "                         &#x27;model__hidden_layer_sizes&#x27;: [(2, 2), (3, 4), (4, 2),\n",
       "                                                       (4, 4)],\n",
       "                         &#x27;model__solver&#x27;: [&#x27;lbfgs&#x27;, &#x27;sgd&#x27;, &#x27;adam&#x27;]},\n",
       "             scoring=&#x27;accuracy&#x27;)</pre><b>In a Jupyter environment, please rerun this cell to show the HTML representation or trust the notebook. <br />On GitHub, the HTML representation is unable to render, please try loading this page with nbviewer.org.</b></div><div class=\"sk-container\" hidden><div class=\"sk-item sk-dashed-wrapped\"><div class=\"sk-label-container\"><div class=\"sk-label sk-toggleable\"><input class=\"sk-toggleable__control sk-hidden--visually\" id=\"sk-estimator-id-21\" type=\"checkbox\" ><label for=\"sk-estimator-id-21\" class=\"sk-toggleable__label sk-toggleable__label-arrow\">GridSearchCV</label><div class=\"sk-toggleable__content\"><pre>GridSearchCV(cv=KFold(n_splits=10, random_state=42, shuffle=True),\n",
       "             estimator=Pipeline(steps=[(&#x27;standard_scaler&#x27;, StandardScaler()),\n",
       "                                       (&#x27;model&#x27;,\n",
       "                                        MLPClassifier(max_iter=50000,\n",
       "                                                      random_state=42))]),\n",
       "             n_jobs=-1,\n",
       "             param_grid={&#x27;model__activation&#x27;: [&#x27;identity&#x27;, &#x27;logistic&#x27;, &#x27;tanh&#x27;,\n",
       "                                               &#x27;relu&#x27;],\n",
       "                         &#x27;model__hidden_layer_sizes&#x27;: [(2, 2), (3, 4), (4, 2),\n",
       "                                                       (4, 4)],\n",
       "                         &#x27;model__solver&#x27;: [&#x27;lbfgs&#x27;, &#x27;sgd&#x27;, &#x27;adam&#x27;]},\n",
       "             scoring=&#x27;accuracy&#x27;)</pre></div></div></div><div class=\"sk-parallel\"><div class=\"sk-parallel-item\"><div class=\"sk-item\"><div class=\"sk-label-container\"><div class=\"sk-label sk-toggleable\"><input class=\"sk-toggleable__control sk-hidden--visually\" id=\"sk-estimator-id-22\" type=\"checkbox\" ><label for=\"sk-estimator-id-22\" class=\"sk-toggleable__label sk-toggleable__label-arrow\">estimator: Pipeline</label><div class=\"sk-toggleable__content\"><pre>Pipeline(steps=[(&#x27;standard_scaler&#x27;, StandardScaler()),\n",
       "                (&#x27;model&#x27;, MLPClassifier(max_iter=50000, random_state=42))])</pre></div></div></div><div class=\"sk-serial\"><div class=\"sk-item\"><div class=\"sk-serial\"><div class=\"sk-item\"><div class=\"sk-estimator sk-toggleable\"><input class=\"sk-toggleable__control sk-hidden--visually\" id=\"sk-estimator-id-23\" type=\"checkbox\" ><label for=\"sk-estimator-id-23\" class=\"sk-toggleable__label sk-toggleable__label-arrow\">StandardScaler</label><div class=\"sk-toggleable__content\"><pre>StandardScaler()</pre></div></div></div><div class=\"sk-item\"><div class=\"sk-estimator sk-toggleable\"><input class=\"sk-toggleable__control sk-hidden--visually\" id=\"sk-estimator-id-24\" type=\"checkbox\" ><label for=\"sk-estimator-id-24\" class=\"sk-toggleable__label sk-toggleable__label-arrow\">MLPClassifier</label><div class=\"sk-toggleable__content\"><pre>MLPClassifier(max_iter=50000, random_state=42)</pre></div></div></div></div></div></div></div></div></div></div></div></div>"
      ],
      "text/plain": [
       "GridSearchCV(cv=KFold(n_splits=10, random_state=42, shuffle=True),\n",
       "             estimator=Pipeline(steps=[('standard_scaler', StandardScaler()),\n",
       "                                       ('model',\n",
       "                                        MLPClassifier(max_iter=50000,\n",
       "                                                      random_state=42))]),\n",
       "             n_jobs=-1,\n",
       "             param_grid={'model__activation': ['identity', 'logistic', 'tanh',\n",
       "                                               'relu'],\n",
       "                         'model__hidden_layer_sizes': [(2, 2), (3, 4), (4, 2),\n",
       "                                                       (4, 4)],\n",
       "                         'model__solver': ['lbfgs', 'sgd', 'adam']},\n",
       "             scoring='accuracy')"
      ]
     },
     "execution_count": 17,
     "metadata": {},
     "output_type": "execute_result"
    }
   ],
   "source": [
    "standard_scaler = StandardScaler()\n",
    "\n",
    "NN = MLPClassifier(max_iter=50000, random_state=42)\n",
    "NN_parameter = {\n",
    "    'model__hidden_layer_sizes': [(2, 2), (3, 4), (4, 2), (4, 4)],\n",
    "    'model__activation': ['identity', 'logistic', 'tanh', 'relu'],\n",
    "    'model__solver': ['lbfgs', 'sgd', 'adam']\n",
    "}\n",
    "\n",
    "pipeline = Pipeline([('standard_scaler', standard_scaler), ('model', NN)])\n",
    "\n",
    "grid_search = GridSearchCV(estimator=pipeline, param_grid=NN_parameter, cv=cross_validation, scoring='accuracy', n_jobs=-1, verbose=0)\n",
    "grid_search.fit(X, y)"
   ]
  },
  {
   "cell_type": "code",
   "execution_count": 18,
   "id": "be6e003d",
   "metadata": {},
   "outputs": [
    {
     "name": "stdout",
     "output_type": "stream",
     "text": [
      "Neural Network Model Best Estimator:  Pipeline(steps=[('standard_scaler', StandardScaler()),\n",
      "                ('model',\n",
      "                 MLPClassifier(activation='logistic', hidden_layer_sizes=(2, 2),\n",
      "                               max_iter=50000, random_state=42,\n",
      "                               solver='lbfgs'))])\n",
      "Neural Network Model Best Parameter:  {'model__activation': 'logistic', 'model__hidden_layer_sizes': (2, 2), 'model__solver': 'lbfgs'}\n",
      "Neural Network Model Best Score:  0.6818181818181818\n"
     ]
    }
   ],
   "source": [
    "print('Neural Network Model Best Estimator: ', grid_search.best_estimator_)\n",
    "print('Neural Network Model Best Parameter: ', grid_search.best_params_)\n",
    "print('Neural Network Model Best Score: ', grid_search.best_score_)"
   ]
  },
  {
   "cell_type": "markdown",
   "id": "959d3d50",
   "metadata": {},
   "source": [
    "## Random Forest"
   ]
  },
  {
   "cell_type": "code",
   "execution_count": 19,
   "id": "e71e572d",
   "metadata": {},
   "outputs": [
    {
     "data": {
      "text/html": [
       "<style>#sk-container-id-7 {color: black;background-color: white;}#sk-container-id-7 pre{padding: 0;}#sk-container-id-7 div.sk-toggleable {background-color: white;}#sk-container-id-7 label.sk-toggleable__label {cursor: pointer;display: block;width: 100%;margin-bottom: 0;padding: 0.3em;box-sizing: border-box;text-align: center;}#sk-container-id-7 label.sk-toggleable__label-arrow:before {content: \"▸\";float: left;margin-right: 0.25em;color: #696969;}#sk-container-id-7 label.sk-toggleable__label-arrow:hover:before {color: black;}#sk-container-id-7 div.sk-estimator:hover label.sk-toggleable__label-arrow:before {color: black;}#sk-container-id-7 div.sk-toggleable__content {max-height: 0;max-width: 0;overflow: hidden;text-align: left;background-color: #f0f8ff;}#sk-container-id-7 div.sk-toggleable__content pre {margin: 0.2em;color: black;border-radius: 0.25em;background-color: #f0f8ff;}#sk-container-id-7 input.sk-toggleable__control:checked~div.sk-toggleable__content {max-height: 200px;max-width: 100%;overflow: auto;}#sk-container-id-7 input.sk-toggleable__control:checked~label.sk-toggleable__label-arrow:before {content: \"▾\";}#sk-container-id-7 div.sk-estimator input.sk-toggleable__control:checked~label.sk-toggleable__label {background-color: #d4ebff;}#sk-container-id-7 div.sk-label input.sk-toggleable__control:checked~label.sk-toggleable__label {background-color: #d4ebff;}#sk-container-id-7 input.sk-hidden--visually {border: 0;clip: rect(1px 1px 1px 1px);clip: rect(1px, 1px, 1px, 1px);height: 1px;margin: -1px;overflow: hidden;padding: 0;position: absolute;width: 1px;}#sk-container-id-7 div.sk-estimator {font-family: monospace;background-color: #f0f8ff;border: 1px dotted black;border-radius: 0.25em;box-sizing: border-box;margin-bottom: 0.5em;}#sk-container-id-7 div.sk-estimator:hover {background-color: #d4ebff;}#sk-container-id-7 div.sk-parallel-item::after {content: \"\";width: 100%;border-bottom: 1px solid gray;flex-grow: 1;}#sk-container-id-7 div.sk-label:hover label.sk-toggleable__label {background-color: #d4ebff;}#sk-container-id-7 div.sk-serial::before {content: \"\";position: absolute;border-left: 1px solid gray;box-sizing: border-box;top: 0;bottom: 0;left: 50%;z-index: 0;}#sk-container-id-7 div.sk-serial {display: flex;flex-direction: column;align-items: center;background-color: white;padding-right: 0.2em;padding-left: 0.2em;position: relative;}#sk-container-id-7 div.sk-item {position: relative;z-index: 1;}#sk-container-id-7 div.sk-parallel {display: flex;align-items: stretch;justify-content: center;background-color: white;position: relative;}#sk-container-id-7 div.sk-item::before, #sk-container-id-7 div.sk-parallel-item::before {content: \"\";position: absolute;border-left: 1px solid gray;box-sizing: border-box;top: 0;bottom: 0;left: 50%;z-index: -1;}#sk-container-id-7 div.sk-parallel-item {display: flex;flex-direction: column;z-index: 1;position: relative;background-color: white;}#sk-container-id-7 div.sk-parallel-item:first-child::after {align-self: flex-end;width: 50%;}#sk-container-id-7 div.sk-parallel-item:last-child::after {align-self: flex-start;width: 50%;}#sk-container-id-7 div.sk-parallel-item:only-child::after {width: 0;}#sk-container-id-7 div.sk-dashed-wrapped {border: 1px dashed gray;margin: 0 0.4em 0.5em 0.4em;box-sizing: border-box;padding-bottom: 0.4em;background-color: white;}#sk-container-id-7 div.sk-label label {font-family: monospace;font-weight: bold;display: inline-block;line-height: 1.2em;}#sk-container-id-7 div.sk-label-container {text-align: center;}#sk-container-id-7 div.sk-container {/* jupyter's `normalize.less` sets `[hidden] { display: none; }` but bootstrap.min.css set `[hidden] { display: none !important; }` so we also need the `!important` here to be able to override the default hidden behavior on the sphinx rendered scikit-learn.org. See: https://github.com/scikit-learn/scikit-learn/issues/21755 */display: inline-block !important;position: relative;}#sk-container-id-7 div.sk-text-repr-fallback {display: none;}</style><div id=\"sk-container-id-7\" class=\"sk-top-container\"><div class=\"sk-text-repr-fallback\"><pre>GridSearchCV(cv=KFold(n_splits=10, random_state=42, shuffle=True),\n",
       "             estimator=Pipeline(steps=[(&#x27;standard_scaler&#x27;, StandardScaler()),\n",
       "                                       (&#x27;model&#x27;,\n",
       "                                        RandomForestClassifier(random_state=42))]),\n",
       "             n_jobs=-1,\n",
       "             param_grid={&#x27;model__max_depth&#x27;: [1, 2, 3, 4, 5, 6, 7, 8, 9, 10, 11,\n",
       "                                              12, 13, 14],\n",
       "                         &#x27;model__n_estimators&#x27;: [1, 2, 3, 4, 5, 6, 7, 8, 9, 10,\n",
       "                                                 11, 12, 13, 14, 15, 16, 17, 18,\n",
       "                                                 19, 20, 21, 22, 23, 24, 25, 26,\n",
       "                                                 27, 28, 29]},\n",
       "             scoring=&#x27;accuracy&#x27;)</pre><b>In a Jupyter environment, please rerun this cell to show the HTML representation or trust the notebook. <br />On GitHub, the HTML representation is unable to render, please try loading this page with nbviewer.org.</b></div><div class=\"sk-container\" hidden><div class=\"sk-item sk-dashed-wrapped\"><div class=\"sk-label-container\"><div class=\"sk-label sk-toggleable\"><input class=\"sk-toggleable__control sk-hidden--visually\" id=\"sk-estimator-id-25\" type=\"checkbox\" ><label for=\"sk-estimator-id-25\" class=\"sk-toggleable__label sk-toggleable__label-arrow\">GridSearchCV</label><div class=\"sk-toggleable__content\"><pre>GridSearchCV(cv=KFold(n_splits=10, random_state=42, shuffle=True),\n",
       "             estimator=Pipeline(steps=[(&#x27;standard_scaler&#x27;, StandardScaler()),\n",
       "                                       (&#x27;model&#x27;,\n",
       "                                        RandomForestClassifier(random_state=42))]),\n",
       "             n_jobs=-1,\n",
       "             param_grid={&#x27;model__max_depth&#x27;: [1, 2, 3, 4, 5, 6, 7, 8, 9, 10, 11,\n",
       "                                              12, 13, 14],\n",
       "                         &#x27;model__n_estimators&#x27;: [1, 2, 3, 4, 5, 6, 7, 8, 9, 10,\n",
       "                                                 11, 12, 13, 14, 15, 16, 17, 18,\n",
       "                                                 19, 20, 21, 22, 23, 24, 25, 26,\n",
       "                                                 27, 28, 29]},\n",
       "             scoring=&#x27;accuracy&#x27;)</pre></div></div></div><div class=\"sk-parallel\"><div class=\"sk-parallel-item\"><div class=\"sk-item\"><div class=\"sk-label-container\"><div class=\"sk-label sk-toggleable\"><input class=\"sk-toggleable__control sk-hidden--visually\" id=\"sk-estimator-id-26\" type=\"checkbox\" ><label for=\"sk-estimator-id-26\" class=\"sk-toggleable__label sk-toggleable__label-arrow\">estimator: Pipeline</label><div class=\"sk-toggleable__content\"><pre>Pipeline(steps=[(&#x27;standard_scaler&#x27;, StandardScaler()),\n",
       "                (&#x27;model&#x27;, RandomForestClassifier(random_state=42))])</pre></div></div></div><div class=\"sk-serial\"><div class=\"sk-item\"><div class=\"sk-serial\"><div class=\"sk-item\"><div class=\"sk-estimator sk-toggleable\"><input class=\"sk-toggleable__control sk-hidden--visually\" id=\"sk-estimator-id-27\" type=\"checkbox\" ><label for=\"sk-estimator-id-27\" class=\"sk-toggleable__label sk-toggleable__label-arrow\">StandardScaler</label><div class=\"sk-toggleable__content\"><pre>StandardScaler()</pre></div></div></div><div class=\"sk-item\"><div class=\"sk-estimator sk-toggleable\"><input class=\"sk-toggleable__control sk-hidden--visually\" id=\"sk-estimator-id-28\" type=\"checkbox\" ><label for=\"sk-estimator-id-28\" class=\"sk-toggleable__label sk-toggleable__label-arrow\">RandomForestClassifier</label><div class=\"sk-toggleable__content\"><pre>RandomForestClassifier(random_state=42)</pre></div></div></div></div></div></div></div></div></div></div></div></div>"
      ],
      "text/plain": [
       "GridSearchCV(cv=KFold(n_splits=10, random_state=42, shuffle=True),\n",
       "             estimator=Pipeline(steps=[('standard_scaler', StandardScaler()),\n",
       "                                       ('model',\n",
       "                                        RandomForestClassifier(random_state=42))]),\n",
       "             n_jobs=-1,\n",
       "             param_grid={'model__max_depth': [1, 2, 3, 4, 5, 6, 7, 8, 9, 10, 11,\n",
       "                                              12, 13, 14],\n",
       "                         'model__n_estimators': [1, 2, 3, 4, 5, 6, 7, 8, 9, 10,\n",
       "                                                 11, 12, 13, 14, 15, 16, 17, 18,\n",
       "                                                 19, 20, 21, 22, 23, 24, 25, 26,\n",
       "                                                 27, 28, 29]},\n",
       "             scoring='accuracy')"
      ]
     },
     "execution_count": 19,
     "metadata": {},
     "output_type": "execute_result"
    }
   ],
   "source": [
    "standard_scaler = StandardScaler()\n",
    "\n",
    "RandomForest = RandomForestClassifier(criterion='gini', random_state=42)\n",
    "RandomForest_parameter = {\n",
    "    'model__n_estimators': list(range(1, 30)),\n",
    "    'model__max_depth': list(range(1, 15)),\n",
    "}\n",
    "\n",
    "pipeline = Pipeline([('standard_scaler', standard_scaler), ('model', RandomForest)])\n",
    "\n",
    "grid_search = GridSearchCV(estimator=pipeline, param_grid=RandomForest_parameter, cv=cross_validation, scoring='accuracy', n_jobs=-1, verbose=0)\n",
    "grid_search.fit(X, y)"
   ]
  },
  {
   "cell_type": "code",
   "execution_count": 20,
   "id": "5d17309f",
   "metadata": {},
   "outputs": [
    {
     "name": "stdout",
     "output_type": "stream",
     "text": [
      "RandomForest Model Best Estimator:  Pipeline(steps=[('standard_scaler', StandardScaler()),\n",
      "                ('model',\n",
      "                 RandomForestClassifier(max_depth=5, n_estimators=15,\n",
      "                                        random_state=42))])\n",
      "RandomForest Model Best Parameter:  {'model__max_depth': 5, 'model__n_estimators': 15}\n",
      "RandomForest Model Best Score:  0.718181818181818\n"
     ]
    }
   ],
   "source": [
    "print('RandomForest Model Best Estimator: ', grid_search.best_estimator_)\n",
    "print('RandomForest Model Best Parameter: ', grid_search.best_params_)\n",
    "print('RandomForest Model Best Score: ', grid_search.best_score_)"
   ]
  },
  {
   "cell_type": "markdown",
   "id": "619c7efc",
   "metadata": {},
   "source": [
    "# Model Initialization"
   ]
  },
  {
   "cell_type": "code",
   "execution_count": 23,
   "id": "4eaa4fd1",
   "metadata": {},
   "outputs": [],
   "source": [
    "KNN = neighbors.KNeighborsClassifier(leaf_size=1, n_neighbors=5, p=3)\n",
    "SVM = SVC(C=2.8, gamma=1.0, kernel='rbf')\n",
    "LR = LogisticRegression(penalty='l2', solver='newton-cg')\n",
    "DT = DecisionTreeClassifier(max_depth=5, max_leaf_nodes=8, criterion='entropy', random_state=42)\n",
    "XGBoost = XGBClassifier(colsample_bytree=1.0, gamma=1.0, max_depth=5, min_child_weight=1, subsample=1.0)\n",
    "NN = MLPClassifier(activation='logistic', hidden_layer_sizes=(2, 2), solver='lbfgs', max_iter=50000, random_state=42)\n",
    "RandomForest = RandomForestClassifier(max_depth=5, n_estimators=15, criterion='gini', random_state=42)\n",
    "\n",
    "voting_estimator = [\n",
    "    ('KNN', KNN),\n",
    "    ('SVM', SVM),\n",
    "    ('LR', LR),\n",
    "    ('DT', DT),\n",
    "    ('XGBoost', XGBoost),\n",
    "    ('NN', NN),\n",
    "    ('RandomForest', RandomForest)\n",
    "]\n",
    "voting = VotingClassifier(voting_estimator, weights=[0.1, 0.1, 0.05, 0.1, 0.3, 0.15, 0.1], voting='hard', n_jobs=-1)"
   ]
  },
  {
   "cell_type": "markdown",
   "id": "64c2bdc1",
   "metadata": {},
   "source": [
    "# Train Model and Cross-validation"
   ]
  },
  {
   "cell_type": "code",
   "execution_count": 24,
   "id": "43691b7b",
   "metadata": {
    "scrolled": true
   },
   "outputs": [
    {
     "name": "stdout",
     "output_type": "stream",
     "text": [
      "Average KNN Model Accuracy: 0.6981818181818181\n",
      "Average SVM Model Accuracy: 0.6518181818181817\n",
      "Average Logistic Regression Model Accuracy: 0.6036363636363636\n",
      "Average Decision Tree Model Accuracy: 0.7018181818181819\n",
      "Average Voting Classifier Model Accuracy: 0.729090909090909\n",
      "Average XGBoost Model Accuracy: 0.670909090909091\n",
      "Average NN Model Accuracy: 0.6818181818181818\n",
      "Average Random Forest Model Accuracy: 0.718181818181818\n"
     ]
    }
   ],
   "source": [
    "KNN_score = []\n",
    "SVM_score = []\n",
    "LR_score = []\n",
    "DT_score = []\n",
    "voting_score = []\n",
    "XGBoost_score = []\n",
    "NN_score = []\n",
    "RandomForest_score = []\n",
    "\n",
    "for train_index, test_index in cross_validation.split(X, y):\n",
    "    X_train, y_train = X.iloc[train_index], y.iloc[train_index]\n",
    "    X_test, y_test = X.iloc[test_index], y.iloc[test_index]\n",
    "\n",
    "    # Normalization\n",
    "    standard_scaler = StandardScaler()\n",
    "    X_train = standard_scaler.fit_transform(X_train)\n",
    "    X_test = standard_scaler.transform(X_test)\n",
    "                \n",
    "    # Training Model\n",
    "    KNN.fit(X_train, y_train)\n",
    "    SVM.fit(X_train, y_train)\n",
    "    LR.fit(X_train, y_train)\n",
    "    DT.fit(X_train, y_train)\n",
    "    voting.fit(X_train, y_train)\n",
    "    XGBoost.fit(X_train, y_train)\n",
    "    NN.fit(X_train, y_train)\n",
    "    RandomForest.fit(X_train, y_train)\n",
    "    \n",
    "    # Model Evaluation\n",
    "    KNN_score.append(KNN.score(X_test, y_test))\n",
    "    SVM_score.append(SVM.score(X_test, y_test))\n",
    "    \n",
    "    LR_y_test_probability = LR.predict_proba(X_test)\n",
    "    LR_y_test = binarize(LR_y_test_probability, threshold=0.5)\n",
    "    LR_score.append(accuracy_score(y_test, LR_y_test[:, 1]))\n",
    "\n",
    "    DT_score.append(DT.score(X_test, y_test))\n",
    "    voting_score.append(voting.score(X_test, y_test))\n",
    "    XGBoost_score.append(XGBoost.score(X_test, y_test))\n",
    "    NN_score.append(NN.score(X_test, y_test))\n",
    "    RandomForest_score.append(RandomForest.score(X_test, y_test))\n",
    "\n",
    "print(f'Average KNN Model Accuracy: {np.mean(KNN_score)}')\n",
    "print(f'Average SVM Model Accuracy: {np.mean(SVM_score)}')\n",
    "print(f'Average Logistic Regression Model Accuracy: {np.mean(LR_score)}')\n",
    "print(f'Average Decision Tree Model Accuracy: {np.mean(DT_score)}')\n",
    "print(f'Average Voting Classifier Model Accuracy: {np.mean(voting_score)}')\n",
    "print(f'Average XGBoost Model Accuracy: {np.mean(XGBoost_score)}')\n",
    "print(f'Average NN Model Accuracy: {np.mean(NN_score)}')\n",
    "print(f'Average Random Forest Model Accuracy: {np.mean(RandomForest_score)}')"
   ]
  },
  {
   "cell_type": "code",
   "execution_count": null,
   "id": "35a160e4",
   "metadata": {},
   "outputs": [],
   "source": []
  },
  {
   "cell_type": "code",
   "execution_count": null,
   "id": "cbfeb9ec",
   "metadata": {},
   "outputs": [],
   "source": []
  }
 ],
 "metadata": {
  "kernelspec": {
   "display_name": "Python 3 (ipykernel)",
   "language": "python",
   "name": "python3"
  },
  "language_info": {
   "codemirror_mode": {
    "name": "ipython",
    "version": 3
   },
   "file_extension": ".py",
   "mimetype": "text/x-python",
   "name": "python",
   "nbconvert_exporter": "python",
   "pygments_lexer": "ipython3",
   "version": "3.11.4"
  }
 },
 "nbformat": 4,
 "nbformat_minor": 5
}
